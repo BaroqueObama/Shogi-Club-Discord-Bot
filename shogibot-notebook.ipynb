{
 "cells": [
  {
   "cell_type": "markdown",
   "metadata": {},
   "source": [
    "# HHS Shogi Club Discord Bot"
   ]
  },
  {
   "cell_type": "markdown",
   "metadata": {},
   "source": [
    "#### These are import statements"
   ]
  },
  {
   "cell_type": "code",
   "execution_count": 1,
   "metadata": {
    "execution": {
     "iopub.execute_input": "2023-12-19T20:46:47.895890Z",
     "iopub.status.busy": "2023-12-19T20:46:47.895453Z",
     "iopub.status.idle": "2023-12-19T20:46:47.903913Z",
     "shell.execute_reply": "2023-12-19T20:46:47.903133Z",
     "shell.execute_reply.started": "2023-12-19T20:46:47.895862Z"
    },
    "tags": []
   },
   "outputs": [],
   "source": [
    "import discord\n",
    "from discord.ext import commands\n",
    "from discord import app_commands\n",
    "\n",
    "import pandas as pd\n",
    "import numpy as np\n",
    "from datetime import datetime\n",
    "import math\n",
    "import typing\n",
    "from typing import Literal\n",
    "import matplotlib.pyplot as plt\n",
    "from datetime import timedelta\n",
    "import ast\n",
    "\n"
   ]
  },
  {
   "cell_type": "code",
   "execution_count": 2,
   "metadata": {
    "execution": {
     "iopub.execute_input": "2024-02-02T18:27:04.517368Z",
     "iopub.status.busy": "2024-02-02T18:27:04.514825Z",
     "iopub.status.idle": "2024-02-02T18:27:04.536007Z",
     "shell.execute_reply": "2024-02-02T18:27:04.535074Z",
     "shell.execute_reply.started": "2024-02-02T18:27:04.517274Z"
    }
   },
   "outputs": [],
   "source": [
    "class ShogiClub:\n",
    "    def __init__(self, test=False):\n",
    "        # Whether I'm just testing my code or not\n",
    "        self.test = test\n",
    "        \n",
    "        # Reads data from csv files and initializes DataFrames\n",
    "        self.players = pd.read_csv((not self.test)*\"Shogi-Club-Discord-Bot/\"+\"data/players.csv\")\n",
    "        self.players.columns.name = \"players\"\n",
    "\n",
    "        self.games = pd.read_csv((not self.test)*\"Shogi-Club-Discord-Bot/\"+\"data/games.csv\")\n",
    "        self.games.columns.name = \"games\"\n",
    "\n",
    "        self.player_history = pd.read_csv((not self.test)*\"Shogi-Club-Discord-Bot/\"+\"data/player_history.csv\")\n",
    "        self.player_history.columns.name = \"player_history\"\n",
    "        \n",
    "        self.log_games = []\n",
    "        self.log_players = []\n",
    "        self.log_player_history = []\n",
    "        self.log_comments = []\n",
    "        \n",
    "    # Saves dataframe as a csv file\n",
    "    def save(self, df):\n",
    "        df.to_csv((not self.test)*\"Shogi-Club-Discord-Bot/\"+\"data/\" + df.columns.name + \".csv\", index=False)\n",
    "    \n",
    "    # Determines if ShogiClub is ready to update scores or not\n",
    "    def ready_to_update(self):\n",
    "        if not (self.log_games and self.log_players):\n",
    "            return False\n",
    "        else:\n",
    "            return True\n",
    "    \n",
    "    # Sets up log to allow for updating\n",
    "    def begin_update(self):\n",
    "        self.log_games = [self.games.copy()]\n",
    "        self.log_players = [self.players.copy()]\n",
    "        self.log_player_history = [self.player_history.copy()]\n",
    "        self.log_comments = [\"Beginning state\"]\n",
    "    \n",
    "    # Saves dataframes and closes log to end updating.\n",
    "    def end_update(self):\n",
    "        self.save(self.players)\n",
    "        self.save(self.games)\n",
    "        self.save(self.player_history)\n",
    "        self.log_games = []\n",
    "        self.log_players = []\n",
    "        self.log_player_history = []\n",
    "        self.log_comments = []\n",
    "    \n",
    "    # Rollsback data to certain index\n",
    "    def rollback_data(self, index):\n",
    "        self.players = self.log_players[index].copy()\n",
    "        self.games = self.log_games[index].copy()\n",
    "        self.player_history = self.log_player_history[index].copy()\n",
    "        \n",
    "    # Adds current player data to player_history\n",
    "    def append_player_data(self, date):\n",
    "        for col in self.player_history.columns[2:]:\n",
    "            self.player_history[col] = self.player_history[col].apply(lambda x: eval(x, {\"inf\": np.inf, \"nan\": np.nan}))\n",
    "        for index, player in self.players.iterrows():\n",
    "            # Gets index of player in player history\n",
    "            player_data_index = self.player_history[self.player_history[\"nick_name\"]==player[\"nick_name\"]].index\n",
    "            # If new player\n",
    "            if player_data_index.empty:\n",
    "                self.append_data(self.player_history, player[\"nick_name\"], player[\"full_name\"], [player[\"win\"]], [player[\"loss\"]], [player[\"draw\"]], [player[\"total\"]], [player[\"kd\"]], [player[\"win_rate\"]], [player[\"ELO\"]], [date])\n",
    "            else:\n",
    "                self.player_history.at[player_data_index[0], \"date\"].append(date)\n",
    "                for column_name in player.index.values.tolist()[2:]:\n",
    "                    self.player_history.at[player_data_index[0], column_name].append(player[column_name])\n",
    "    \n",
    "    # Helper Adds row of data to dataframe\n",
    "    def append_data(self, df, *args):\n",
    "        df.loc[len(df)] = args\n",
    "    \n",
    "    # Adds new log\n",
    "    def add_log(self, comment):\n",
    "        self.log_games.append(self.games.copy())\n",
    "        self.log_players.append(self.players.copy())\n",
    "        self.log_player_history.append(self.player_history.copy())\n",
    "        self.log_comments.append(comment)\n",
    "    \n",
    "    # Returns nick name. If doesn't exist, return False\n",
    "    def get_nick_name(self, name):\n",
    "        if self.players[\"nick_name\"].isin([name]).any():\n",
    "            return name\n",
    "        elif self.players[\"full_name\"].isin([name]).any():\n",
    "            return self.players[self.players[\"full_name\"] == name][\"nick_name\"].values[0]\n",
    "        else:\n",
    "            return False\n",
    "    \n",
    "    # Returns usable nickname for new players\n",
    "    def new_nick_name(self, full_name):\n",
    "        name_parts = full_name.split()\n",
    "        if not self.players[\"nick_name\"].isin([name_parts[0]]).any():\n",
    "            return name_parts[0]\n",
    "        else:\n",
    "            nick_name = name_parts[0]\n",
    "            i = 0\n",
    "            while self.players[\"nick_name\"].isin([nick_name]).any():\n",
    "                nick_name = full_name[0 : len(name_parts[0])+2+i].replace(\" \", \"_\")\n",
    "                i += 1\n",
    "            return nick_name\n",
    "        \n",
    "    # Adds a new player\n",
    "    def add_new_player(self, nick_name, full_name, elo):\n",
    "        self.append_data(self.players, nick_name, full_name, 0, 0, 0, 0, 0, 0, elo)\n",
    "    \n",
    "    # Updates Player data based on game\n",
    "    def update_game_players(self, nick1, nick2, result1, result2, delta_elo1, delta_elo2):\n",
    "        # Adjust win, loss, draw\n",
    "        # result1, result2 is \"win\", \"loss\", \"draw\"\n",
    "        self.set_player_stat(nick1, result1, self.get_player_stat(nick1, result1)+1)\n",
    "        self.set_player_stat(nick1, \"total\", self.get_player_stat(nick1, \"total\")+1)\n",
    "        self.set_player_stat(nick2, result2, self.get_player_stat(nick2, result2)+1)\n",
    "        self.set_player_stat(nick2, \"total\", self.get_player_stat(nick2, \"total\")+1)\n",
    "        \n",
    "        # Adjust kd and rate\n",
    "        self.set_player_stat(nick1, \"kd\", self.get_player_stat(nick1, \"win\")/self.get_player_stat(nick1, \"loss\"))\n",
    "        self.set_player_stat(nick1, \"win_rate\", self.get_player_stat(nick1, \"win\")/self.get_player_stat(nick1, \"total\"))\n",
    "        self.set_player_stat(nick2, \"kd\", self.get_player_stat(nick2, \"win\")/self.get_player_stat(nick2, \"loss\"))\n",
    "        self.set_player_stat(nick2, \"win_rate\", self.get_player_stat(nick2, \"win\")/self.get_player_stat(nick2, \"total\"))\n",
    "        \n",
    "        # Update ELO\n",
    "        self.set_player_stat(nick1, \"ELO\", self.get_player_stat(nick1,\"ELO\")+delta_elo1)\n",
    "        self.set_player_stat(nick2, \"ELO\", self.get_player_stat(nick2,\"ELO\")+delta_elo2)\n",
    "    \n",
    "    # Updates a player's stat to a value\n",
    "    def set_player_stat(self, nick_name, stat, value):\n",
    "        self.players.loc[self.players.index[self.players[\"nick_name\"] == nick_name], stat] = value\n",
    "    \n",
    "    # Get's a player's stat\n",
    "    def get_player_stat(self, nick_name, stat):\n",
    "        return self.players.loc[self.players.index[self.players[\"nick_name\"] == nick_name], stat].values[0]\n",
    "        #return self.players.loc[self.players.index[self.players[\"nick_name\"] == name],\"ELO\"].values[0]\n",
    "    \n",
    "    # Returns K constant by ELO\n",
    "    def get_K(self, ELO):\n",
    "        return 194.491 * math.exp(-0.000888269 * ELO)\n",
    "    \n",
    "    # Returns expected win from ELO\n",
    "    def expected(self, ELO1, ELO2):\n",
    "        return 1 / (1 + 10 ** ((ELO2 - ELO1) / 400))\n",
    "    \n",
    "    # Returns the new ELO for the two players\n",
    "    def new_elo(self, name1, name2, result1, result2):\n",
    "        ELO1 = self.get_player_stat(name1, \"ELO\")\n",
    "        ELO2 = self.get_player_stat(name2, \"ELO\")\n",
    "        change1 = self.get_K(ELO1) * (result1 - self.expected(ELO1, ELO2))\n",
    "        change2 = self.get_K(ELO2) * (result2 - self.expected(ELO2, ELO1))\n",
    "        return (change1, change2)\n",
    "    \n",
    "    # Adds new game and updates players\n",
    "    def add_game(self, name1, name2, game_mode, result, comments, date):\n",
    "        ELO1 = self.get_player_stat(name1, \"ELO\")\n",
    "        ELO2 = self.get_player_stat(name2, \"ELO\")\n",
    "        expectation = self.expected(ELO1, ELO2)\n",
    "        change_elo1 = 0\n",
    "        change_elo2 = 0\n",
    "        \n",
    "        # Adjust change elo if ranked\n",
    "        if game_mode.upper() == \"R\":\n",
    "            if result.upper() == \"W\":\n",
    "                change_elo1, change_elo2 = self.new_elo(name1, name2, 1, 0)\n",
    "            elif result.upper() == \"L\":\n",
    "                change_elo1, change_elo2 = self.new_elo(name1, name2, 0, 1)\n",
    "        \n",
    "        # Add data to games\n",
    "        self.append_data(self.games, name1, name2, game_mode.upper(), result.upper(), date, expectation, ELO1, ELO2, change_elo1, change_elo2, comments)\n",
    "        # Update Players\n",
    "        translate_results = {\"W\":(\"win\", \"loss\"), \"L\":(\"loss\", \"win\"), \"D\":(\"draw\", \"draw\")}\n",
    "        result1, result2 = translate_results[result.upper()]\n",
    "        self.update_game_players(name1, name2, result1, result2, change_elo1, change_elo2)\n",
    "        \n",
    "        return [result1, result2, ELO1 + change_elo1, ELO2 + change_elo2, change_elo1, change_elo2]\n",
    "    \n",
    "        # Formats some values to specific decimals\n",
    "    def format_float(self, num):\n",
    "        return f\"{num:.1f}\"\n",
    "    \n",
    "    def rerun_game_calculations(self):\n",
    "        aux_games = self.games.copy()\n",
    "        self.games = pd.read_csv((not self.test)*\"Shogi-Club-Discord-Bot/\"+\"data/reset_games.csv\")\n",
    "        self.games.columns.name = \"games\"\n",
    "        self.player_history = pd.read_csv((not self.test)*\"Shogi-Club-Discord-Bot/\"+\"data/reset_player_history.csv\")\n",
    "        self.player_history.columns.name = \"player_history\"\n",
    "        prev_date = aux_games.loc[0, \"date\"]\n",
    "        for index, game in aux_games.iterrows():\n",
    "            if prev_date != game[\"date\"]:\n",
    "                self.append_player_data(prev_date)\n",
    "            prev_date = game[\"date\"]\n",
    "            self.add_game(game[\"name1\"], game[\"name2\"], game[\"game_mode\"], game[\"result\"], game[\"comments\"], game[\"date\"])\n",
    "        self.append_player_data(prev_date)\n",
    "            \n",
    "    def clear_players(self):\n",
    "        aux_players = self.players.copy()\n",
    "        self.players = pd.read_csv((not self.test)*\"Shogi-Club-Discord-Bot/\"+\"data/reset_players.csv\")\n",
    "        self.players.columns.name = \"players\"\n",
    "\n",
    "        for index, player in aux_players.iterrows():\n",
    "            self.add_new_player(player[\"nick_name\"], player[\"full_name\"], 1500)\n",
    "        \n",
    "    # Get list of continuous dates\n",
    "    def get_continuous_dates(self, date_list, rank_list):\n",
    "        x = []\n",
    "        y = []\n",
    "        \n",
    "        date_objects = [datetime.strptime(date, \"%Y-%m-%d\") for date in date_list]\n",
    "        index =  date_objects[0]\n",
    "        i = 0\n",
    "        while index <= date_objects[-1]:\n",
    "            x.append(index)\n",
    "            if index == date_objects[i+1]:\n",
    "                i += 1\n",
    "            y.append(rank_list[i])\n",
    "            index = index + timedelta(days=1)\n",
    "        return (x, y)\n",
    "        \n",
    "    # Creates graph of top n players ranking changes\n",
    "    def graph_players(self, rank_by, n):\n",
    "        column_names = {\"elo\":\"ELO\", \"games\":\"total\", \"kd\":\"kd\", \"rate\":\"win_rate\"}\n",
    "        pretty_names = {\"elo\":\"ELO\", \"games\":\"# Played\", \"kd\":\"K/D\", \"rate\":\"% Won\"}\n",
    "        sorted_rankings = self.players.sort_values(by=column_names[rank_by], ascending=False)[\"nick_name\"][0:n]\n",
    "        player_data = self.player_history.iloc[list(sorted_rankings.index)]\n",
    "        \n",
    "        fig, ax = plt.subplots()\n",
    "        \n",
    "        smallest_date = datetime(2050, 1, 1)\n",
    "        largest_date = datetime(2000, 1, 1)\n",
    "        \n",
    "        for index, player in player_data.iterrows():\n",
    "            x, y = self.get_continuous_dates(ast.literal_eval(str(player[\"date\"])), ast.literal_eval(str(player[column_names[rank_by]])))\n",
    "            if x[0] < smallest_date:\n",
    "                smallest_date = x[0]\n",
    "            if x[-1] > largest_date:\n",
    "                largest_date = x[-1]\n",
    "            ax.plot(x, y, label=player[\"nick_name\"])\n",
    "        \n",
    "        dates = pd.date_range(start=smallest_date, end=largest_date, periods=5)\n",
    "        date_list = list(dates.to_pydatetime())\n",
    "        ax.set_xticks(date_list)\n",
    "        ax.set_title(f'Top {n} Players: {pretty_names[rank_by]} Ranking')\n",
    "        ax.set_ylabel(pretty_names[rank_by])\n",
    "        ax.set_xlabel('Date')\n",
    "        ax.legend()\n",
    "        fig.savefig((not self.test)*\"Shogi-Club-Discord-Bot/\"+'images/ranking.png', dpi=300)\n",
    "        \n",
    "        "
   ]
  },
  {
   "cell_type": "markdown",
   "metadata": {},
   "source": [
    "#### Initializing bot object"
   ]
  },
  {
   "cell_type": "code",
   "execution_count": 2,
   "metadata": {
    "execution": {
     "iopub.execute_input": "2023-12-19T20:26:02.729911Z",
     "iopub.status.busy": "2023-12-19T20:26:02.729215Z",
     "iopub.status.idle": "2023-12-19T20:26:02.739434Z",
     "shell.execute_reply": "2023-12-19T20:26:02.738478Z",
     "shell.execute_reply.started": "2023-12-19T20:26:02.729872Z"
    },
    "tags": []
   },
   "outputs": [],
   "source": [
    "description = '''Howdy I'm the Shogi club bot.\n",
    "\n",
    "Here's some stuff I can do:'''\n",
    "\n",
    "intents = discord.Intents.default()\n",
    "intents.members = True\n",
    "intents.message_content = True\n",
    "\n",
    "bot = commands.Bot(command_prefix='?', description=description, intents=intents)\n",
    "shogi_club = ShogiClub(test=False)\n",
    "plt.style.use(\"https://github.com/dhaitz/matplotlib-stylesheets/raw/master/pitayasmoothie-dark.mplstyle\")"
   ]
  },
  {
   "cell_type": "markdown",
   "metadata": {},
   "source": [
    "#### Runs when bot is booted up"
   ]
  },
  {
   "cell_type": "code",
   "execution_count": 3,
   "metadata": {
    "execution": {
     "iopub.execute_input": "2023-12-19T20:26:06.356923Z",
     "iopub.status.busy": "2023-12-19T20:26:06.356497Z",
     "iopub.status.idle": "2023-12-19T20:26:06.362942Z",
     "shell.execute_reply": "2023-12-19T20:26:06.362025Z",
     "shell.execute_reply.started": "2023-12-19T20:26:06.356893Z"
    },
    "tags": []
   },
   "outputs": [],
   "source": [
    "@bot.event\n",
    "async def on_ready():\n",
    "    print(f'Logged in as {bot.user} (ID: {bot.user.id})')\n",
    "    print('------')"
   ]
  },
  {
   "cell_type": "markdown",
   "metadata": {},
   "source": [
    "# Bot Features"
   ]
  },
  {
   "cell_type": "markdown",
   "metadata": {},
   "source": [
    "### Bot Commands"
   ]
  },
  {
   "cell_type": "code",
   "execution_count": null,
   "metadata": {},
   "outputs": [],
   "source": [
    "# Begins update process on scores (so that changes can be rolled back easily)\n",
    "@bot.command()\n",
    "@commands.is_owner()\n",
    "async def update(ctx, change):\n",
    "    \"\"\"Begins update process: \\\"begin\\\" or \\\"save\\\"\"\"\"\n",
    "    if change == \"begin\":\n",
    "        if shogi_club.ready_to_update():\n",
    "            await ctx.send(\"ShogiClub already ready to update scores.\")\n",
    "        else:\n",
    "            shogi_club.begin_update()\n",
    "            await ctx.send(\"ShogiClub ready to update scores.\")\n",
    "            \n",
    "    elif change == \"save\":\n",
    "        if shogi_club.ready_to_update():\n",
    "            shogi_club.end_update()\n",
    "            await ctx.send(\"ShogiClub scores updated and saved.\")\n",
    "        else:\n",
    "            await ctx.send(\"ShogiClub not ready to update scores.\")\n",
    "    else:\n",
    "        await ctx.send(\"Invalid option. Pick either \\\"begin\\\" to begin or \\\"save\\\" to save score update.\")"
   ]
  },
  {
   "cell_type": "code",
   "execution_count": null,
   "metadata": {},
   "outputs": [],
   "source": [
    "# Rolls back changes made during update session\n",
    "@bot.command()\n",
    "@commands.is_owner()\n",
    "async def rollback(ctx, index: typing.Optional[int]=-2):\n",
    "    \"\"\"Rolls back changes made during update to index\"\"\"\n",
    "    if shogi_club.ready_to_update():\n",
    "        if index in range(-len(shogi_club.log_games), len(shogi_club.log_games)):\n",
    "            shogi_club.rollback_data(index)\n",
    "            shogi_club.add_log(f\"Rollback to: {index}.\")\n",
    "            await ctx.send(f\"Changes rolled back to Log number {index}.\")\n",
    "        else:\n",
    "            await ctx.send(\"Log index to rollback to out of range.\")\n",
    "    else:\n",
    "        await ctx.send(\"ShogiClub not currently in an update session.\")"
   ]
  },
  {
   "cell_type": "code",
   "execution_count": null,
   "metadata": {},
   "outputs": [],
   "source": [
    "# Shows log history during update session\n",
    "@bot.command()\n",
    "@commands.is_owner()\n",
    "async def logs(ctx):\n",
    "    \"\"\"Shows log history during update session\"\"\"\n",
    "    log_string = \"\"\n",
    "    if shogi_club.ready_to_update():\n",
    "        for index, log_message in enumerate(shogi_club.log_comments):\n",
    "            log_string += f\"{index:>3}: {log_message}\\n\"\n",
    "        await ctx.send(\"```Change Log:\\n\" + log_string + \"```\")\n",
    "    else:\n",
    "        await ctx.send(\"ShogiClub not currently in an update session.\")"
   ]
  },
  {
   "cell_type": "code",
   "execution_count": null,
   "metadata": {
    "execution": {
     "iopub.execute_input": "2023-11-08T11:25:27.061324Z",
     "iopub.status.busy": "2023-11-08T11:25:27.059405Z",
     "iopub.status.idle": "2023-11-08T11:25:27.072661Z",
     "shell.execute_reply": "2023-11-08T11:25:27.071570Z",
     "shell.execute_reply.started": "2023-11-08T11:25:27.061255Z"
    }
   },
   "outputs": [],
   "source": [
    "# Pushes current scores to history\n",
    "@bot.command()\n",
    "@commands.is_owner()\n",
    "async def push(ctx, date=str(datetime.now().date())):\n",
    "    \"\"\"Pushes current scores to history: date(opt. yyyy-mm-dd)\"\"\"\n",
    "    if shogi_club.ready_to_update():\n",
    "        shogi_club.append_player_data(date)\n",
    "        shogi_club.add_log(\"Pushed to history\")\n",
    "        await ctx.send(\"Pushed data to player history.\")\n",
    "    else:\n",
    "        await ctx.send(\"ShogiClub not currently in an update session.\")"
   ]
  },
  {
   "cell_type": "code",
   "execution_count": null,
   "metadata": {},
   "outputs": [],
   "source": [
    "# Adds new player\n",
    "@bot.command()\n",
    "@commands.is_owner()\n",
    "async def add_player(ctx, full_name, elo: typing.Optional[int]=1100):\n",
    "    \"\"\"Add player: full_name, elo=1100\"\"\"\n",
    "    if shogi_club.ready_to_update():\n",
    "        if shogi_club.get_nick_name(full_name):\n",
    "            await ctx.send(\"Player already exists.\")\n",
    "        else:\n",
    "            nick_name = shogi_club.new_nick_name(full_name)\n",
    "            shogi_club.add_new_player(nick_name, full_name, elo)\n",
    "            shogi_club.add_log(f\"New Player: {nick_name}\")\n",
    "            await ctx.send(f\"Player {nick_name} added with {elo} ELO.\")\n",
    "    else:\n",
    "        await ctx.send(\"ShogiClub not currently in an update session.\")"
   ]
  },
  {
   "cell_type": "code",
   "execution_count": null,
   "metadata": {
    "execution": {
     "iopub.execute_input": "2023-11-08T11:19:42.717880Z",
     "iopub.status.busy": "2023-11-08T11:19:42.717188Z",
     "iopub.status.idle": "2023-11-08T11:19:42.743841Z",
     "shell.execute_reply": "2023-11-08T11:19:42.742840Z",
     "shell.execute_reply.started": "2023-11-08T11:19:42.717812Z"
    }
   },
   "outputs": [],
   "source": [
    "# Add games and update scores\n",
    "@bot.command()\n",
    "@commands.is_owner()\n",
    "async def add(ctx, name1, name2, game_mode, result, comments, date=str(datetime.now().date())):\n",
    "    \"\"\"P1, P2, game_mode, W/L/D, comments, date(opt. ymd)\"\"\"\n",
    "    if shogi_club.ready_to_update():\n",
    "        nick1 = shogi_club.get_nick_name(name1)\n",
    "        nick2 = shogi_club.get_nick_name(name2)\n",
    "        if not (nick1 and nick2):\n",
    "            if not nick1:\n",
    "                await ctx.send(f\"Player {name1} doesn't exist.\")\n",
    "            if not nick2:\n",
    "                await ctx.send(f\"Player {name2} doesn't exist.\")\n",
    "        else:\n",
    "            update_results = shogi_club.add_game(nick1, nick2, game_mode, result, comments, date)\n",
    "            shogi_club.add_log(f\"Added game {name1}, {name2}\")\n",
    "            await ctx.send(f\"Game mode: {game_mode}\\n{nick1} {update_results[0]}: ELO Change: {update_results[2]}, New ELO: {update_results[4]}\\n{nick2} {update_results[1]}: ELO Change: {update_results[3]}, New ELO: {update_results[5]}\")\n",
    "    else:\n",
    "        await ctx.send(\"ShogiClub not currently in an update session.\")"
   ]
  },
  {
   "cell_type": "code",
   "execution_count": null,
   "metadata": {},
   "outputs": [],
   "source": [
    "# Reruns calculations\n",
    "@bot.command()\n",
    "@commands.is_owner()\n",
    "async def rerun_calculations(ctx):\n",
    "    \"\"\"Reruns entire data calculations.\"\"\"\n",
    "    if shogi_club.ready_to_update():\n",
    "        shogi_club.rerun_game_calculations()\n",
    "        shogi_club.add_log(\"Rerun Calculations on Player Data\")\n",
    "        await ctx.send(\"Rerun Calculations on Player Data\")\n",
    "    else:\n",
    "        await ctx.send(\"ShogiClub not currently in an update session.\")"
   ]
  },
  {
   "cell_type": "code",
   "execution_count": null,
   "metadata": {},
   "outputs": [],
   "source": [
    "# Clears Players to rerun calculations\n",
    "@bot.command()\n",
    "@commands.is_owner()\n",
    "async def clear_players(ctx):\n",
    "    \"\"\"Clears players to rerun calculations.\"\"\"\n",
    "    if shogi_club.ready_to_update():\n",
    "        shogi_club.clear_players()\n",
    "        shogi_club.add_log(\"Cleared Player Data\")\n",
    "        await ctx.send(\"Cleared Player Data\")\n",
    "    else:\n",
    "        await ctx.send(\"ShogiClub not currently in an update session.\")"
   ]
  },
  {
   "cell_type": "code",
   "execution_count": null,
   "metadata": {
    "execution": {
     "iopub.execute_input": "2023-11-08T10:22:10.150517Z",
     "iopub.status.busy": "2023-11-08T10:22:10.149779Z",
     "iopub.status.idle": "2023-11-08T10:22:10.165323Z",
     "shell.execute_reply": "2023-11-08T10:22:10.163884Z",
     "shell.execute_reply.started": "2023-11-08T10:22:10.150467Z"
    },
    "tags": []
   },
   "outputs": [],
   "source": [
    "# Shows the rankings\n",
    "@bot.command()\n",
    "async def ranking(ctx, rank_by: Literal['elo', 'kd', 'rate', 'games'], n=10):\n",
    "    \"\"\"Ranking of top n players by ELO, K/D, win%, games played.\"\"\"\n",
    "    \n",
    "    column_names = {\"elo\":\"ELO\", \"games\":\"total\", \"kd\":\"kd\", \"rate\":\"win_rate\"}\n",
    "    pretty_names = {\"elo\":\"ELO\", \"games\":\"# Played\", \"kd\":\"K/D\", \"rate\":\"% Won\"}\n",
    "    result = f\"Rank:      Name:  {pretty_names[rank_by]:>8}:\\n\"\n",
    "                      \n",
    "    sorted_rankings = shogi_club.players.sort_values(by=column_names[rank_by], ascending=False)\n",
    "    for i in range(min(n, len(shogi_club.players))):\n",
    "        if rank_by == \"kd\":\n",
    "            result = result + f\"{i+1:>5} {sorted_rankings.iloc[i]['nick_name']:>10}   {sorted_rankings.iloc[i][column_names[rank_by]]:>8.2f}\\n\"\n",
    "        elif rank_by == \"games\":\n",
    "            result = result + f\"{i+1:>5} {sorted_rankings.iloc[i]['nick_name']:>10}   {sorted_rankings.iloc[i][column_names[rank_by]]:>8}\\n\"\n",
    "        else:\n",
    "            result = result + f\"{i+1:>5} {sorted_rankings.iloc[i]['nick_name']:>10}   {sorted_rankings.iloc[i][column_names[rank_by]]:>8.1f}\\n\"\n",
    "    await ctx.send(\"```\\n\"+result+\"```\")"
   ]
  },
  {
   "cell_type": "code",
   "execution_count": null,
   "metadata": {
    "execution": {
     "iopub.execute_input": "2023-11-08T10:22:10.903052Z",
     "iopub.status.busy": "2023-11-08T10:22:10.902212Z",
     "iopub.status.idle": "2023-11-08T10:22:10.915100Z",
     "shell.execute_reply": "2023-11-08T10:22:10.913816Z",
     "shell.execute_reply.started": "2023-11-08T10:22:10.902891Z"
    },
    "tags": []
   },
   "outputs": [],
   "source": [
    "# Shows the members\n",
    "@bot.command()\n",
    "async def members(ctx, full_name=\"false\"):\n",
    "    \"\"\"List of member names on data set\"\"\"\n",
    "    \n",
    "    if full_name == \"false\":\n",
    "        result = f\"Name:\\n\"\n",
    "        sorted_rankings = shogi_club.players.sort_values(by=\"total\", ascending=False)\n",
    "        for i in range(len(shogi_club.players)):\n",
    "            result = result + f\"{sorted_rankings.iloc[i]['nick_name']:>10}\\n\"\n",
    "    else:\n",
    "        result = f\"Names:\\n\"\n",
    "        sorted_rankings = shogi_club.players.sort_values(by=\"total\", ascending=False)\n",
    "        for i in range(len(shogi_club.players)):\n",
    "            result = result + f\"{sorted_rankings.iloc[i]['full_name']:>22}\\n\"\n",
    "\n",
    "    await ctx.send(\"```\\n\"+result+\"```\")"
   ]
  },
  {
   "cell_type": "code",
   "execution_count": null,
   "metadata": {
    "execution": {
     "iopub.execute_input": "2023-11-08T10:22:11.170736Z",
     "iopub.status.busy": "2023-11-08T10:22:11.170278Z",
     "iopub.status.idle": "2023-11-08T10:22:11.179463Z",
     "shell.execute_reply": "2023-11-08T10:22:11.178564Z",
     "shell.execute_reply.started": "2023-11-08T10:22:11.170675Z"
    },
    "tags": []
   },
   "outputs": [],
   "source": [
    "# Shows matchups\n",
    "@bot.command()\n",
    "async def matchup(ctx, name1, name2):\n",
    "    \"\"\"Probabilities on hypothetical matchups\"\"\"\n",
    "    result = f\"{'Matchup':^27}\\n{name1:<12} v {name2:>12}\\n\"\n",
    "    result = result + f\"Win%: {100*shogi_club.expected(shogi_club.get_player_stat(name1, 'ELO'),shogi_club.get_player_stat(name2, 'ELO')):<6.1f}   {'Win%: ' + shogi_club.format_float(100*shogi_club.expected(shogi_club.get_player_stat(name2, 'ELO'), shogi_club.get_player_stat(name1, 'ELO'))):>12}\\n\"\n",
    "    result = result + f\"ELO: {shogi_club.get_player_stat(name1, 'ELO'):<7.1f}   {'ELO: ' + shogi_club.format_float(shogi_club.get_player_stat(name2, 'ELO')):>12}\\n\"\n",
    "    win1, loss2 = shogi_club.new_elo(name1, name2, 1, 0)\n",
    "    win2, loss1 = shogi_club.new_elo(name2, name1, 1, 0)\n",
    "    result = result + f\"Win∆: {win1:<6.1f}   {'Win∆: ' + shogi_club.format_float(win2):>12}\\n\"\n",
    "    result = result + f\"Loss∆: {loss1:<6.1f}  {'Loss∆: ' + shogi_club.format_float(loss2):>12}\\n\"\n",
    "    await ctx.send(\"```\\n\"+result+\"```\")"
   ]
  },
  {
   "cell_type": "code",
   "execution_count": null,
   "metadata": {
    "execution": {
     "iopub.execute_input": "2023-11-08T10:22:11.648133Z",
     "iopub.status.busy": "2023-11-08T10:22:11.647748Z",
     "iopub.status.idle": "2023-11-08T10:22:11.660810Z",
     "shell.execute_reply": "2023-11-08T10:22:11.659478Z",
     "shell.execute_reply.started": "2023-11-08T10:22:11.648107Z"
    },
    "tags": []
   },
   "outputs": [],
   "source": [
    "# Shows history of games\n",
    "@bot.command()\n",
    "async def history(ctx, n=10):\n",
    "    \"\"\"List history of n games\"\"\"\n",
    "    result_scores = {\"W\":\"L\", \"L\":\"W\", \"D\":\"D\"}\n",
    "    result = f\"#   {'Games:':<10}\\n\"\n",
    "    for i in range(min(n,len(shogi_club.games))):\n",
    "        row = shogi_club.games.iloc[len(shogi_club.games)-1-i]\n",
    "        result = result + f\"{len(shogi_club.games)-i:<3} {row['date']:<10} {row['name1']:>8} - {row['result']} {row['name2']:>8} - {result_scores[row['result']]}     {row['game_mode']}\\n\"\n",
    "\n",
    "    await ctx.send(\"```\\n\"+result+\"```\")"
   ]
  },
  {
   "cell_type": "code",
   "execution_count": null,
   "metadata": {
    "execution": {
     "iopub.execute_input": "2023-11-08T10:22:12.026509Z",
     "iopub.status.busy": "2023-11-08T10:22:12.025790Z",
     "iopub.status.idle": "2023-11-08T10:22:12.036357Z",
     "shell.execute_reply": "2023-11-08T10:22:12.035412Z",
     "shell.execute_reply.started": "2023-11-08T10:22:12.026451Z"
    },
    "tags": []
   },
   "outputs": [],
   "source": [
    "# Shows specific game\n",
    "@bot.command()\n",
    "async def game(ctx, num=len(shogi_club.games)):\n",
    "    \"\"\"Show details on individual games\"\"\"\n",
    "    row = shogi_club.games.iloc[min(max(1, num), len(shogi_club.games))-1]\n",
    "    result_scores = {\"W\":\"L\", \"L\":\"W\", \"D\":\"D\"}\n",
    "    \n",
    "    result = f\"{'Game #'+str(min(max(1, num), len(shogi_club.games))):<11}{row['date']:>17}\\n{'Names:':<10}{row['name1']:>8}  {row['name2']:>8}\\n\"\n",
    "    result = result + f\"{'Result:':<10}{row['result']:>8}  {result_scores[row['result']]:>8}\\n\"\n",
    "    result = result + f\"{'Expected:':<10}{100*row['expectation']:>8.1f}  {100-100*row['expectation']:>8.1f}\\n\"\n",
    "    result = result + f\"{'ELO:':<10}{row['ELO1']:>8.1f}  {row['ELO2']:>8.1f}\\n\"\n",
    "    result = result + f\"{'∆ELO:':<10}{row['change_elo1']:>8.1f}  {row['change_elo2']:>8.1f}\\n\"\n",
    "    result = result + f\"Comments: {row['comments']}\\n\"\n",
    "    await ctx.send(\"```\\n\"+result+\"```\")"
   ]
  },
  {
   "cell_type": "code",
   "execution_count": null,
   "metadata": {
    "execution": {
     "iopub.execute_input": "2023-11-08T10:28:53.587659Z",
     "iopub.status.busy": "2023-11-08T10:28:53.586897Z",
     "iopub.status.idle": "2023-11-08T10:28:53.604368Z",
     "shell.execute_reply": "2023-11-08T10:28:53.596313Z",
     "shell.execute_reply.started": "2023-11-08T10:28:53.587622Z"
    },
    "tags": []
   },
   "outputs": [],
   "source": [
    "# Shows profile of player\n",
    "@bot.command()\n",
    "async def profile(ctx, name):\n",
    "    \"\"\"Show details on players\"\"\"\n",
    "    row = shogi_club.players[shogi_club.players[\"nick_name\"] == name]\n",
    "    \n",
    "    result = f\"{name} ({row['full_name'].values[0]})\\n\\n\"\n",
    "    result = result + f\"{'Won: ' + str(row['win'].values[0]):<9} {'Lost: ' + str(row['loss'].values[0]):<9} {'Draw: ' + str(row['total'].values[0]-row['loss'].values[0]-row['win'].values[0]):<9} {'Total: ' + str(row['total'].values[0]):<9}\\n\\n\"\n",
    "    result = result + f\"ELO:{row['ELO'].values[0]:>11.1f}\\n\"\n",
    "    result = result + f\"K/D: {row['kd'].values[0]:>10.2f}\\n\"\n",
    "    result = result + f\"Win%:{row['win_rate'].values[0]:>10.1f}\\n\"\n",
    "    await ctx.send(\"```\\n\"+result+\"```\")"
   ]
  },
  {
   "cell_type": "code",
   "execution_count": null,
   "metadata": {},
   "outputs": [],
   "source": [
    "# Graphs changes in rankings\n",
    "@bot.command()\n",
    "async def graph(ctx, rank_by: Literal['elo', 'kd', 'rate', 'games'], n=5):\n",
    "    \"\"\"Ranking of top n players by ELO, K/D, win%, games played.\"\"\"\n",
    "    shogi_club.graph_players(rank_by, n)\n",
    "    await ctx.send(file=discord.File('Shogi-Club-Discord-Bot/images/ranking.png'))\n",
    "    "
   ]
  }
 ],
 "metadata": {
  "kernelspec": {
   "display_name": "Python 3 (ipykernel)",
   "language": "python",
   "name": "python3"
  },
  "language_info": {
   "codemirror_mode": {
    "name": "ipython",
    "version": 3
   },
   "file_extension": ".py",
   "mimetype": "text/x-python",
   "name": "python",
   "nbconvert_exporter": "python",
   "pygments_lexer": "ipython3",
   "version": "3.9.15"
  }
 },
 "nbformat": 4,
 "nbformat_minor": 4
}
