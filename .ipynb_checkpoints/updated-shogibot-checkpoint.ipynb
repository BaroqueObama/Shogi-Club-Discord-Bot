{
 "cells": [
  {
   "cell_type": "markdown",
   "metadata": {},
   "source": [
    "**Initialize bot**\n",
    "\n",
    "**New Features:**\n",
    "- [ ] undo action\n",
    "- - [ ] hold transaction state so could roll back changes\n",
    "- [ ] display graphs\n",
    "- [ ] include draws,\n",
    "- [ ] include diff game modes,\n",
    "- - [ ] Handicapped\n",
    "- - [ ] Animal shogi\n",
    "- - [ ] Combo games\n",
    "- [ ] include unranked games\n",
    "- [ ] expected change in ELO for matchups\n",
    "- [ ] treat data set as object, helper functions as method\n",
    "- [ ] helper method to update scores\n",
    "- [ ] loop through games.csv to rescore ELO\n",
    "\n",
    "**Data:**\n",
    "- `players:` nick_name, full_name, win, loss, total, ELO\n",
    "- `player_history:` nick_name, full_name, win, loss, total, ELO, date\n",
    "- - change save method to csv to rows of players and colums containing array of data\n",
    "- `games:` name1, name2, result, date, expectation, delta_elo1, delta_elo2, comments\n",
    "\n",
    "**Helper functions:**\n",
    "- `def save(df):` Saves dataframe as a csv file\n",
    "- `def append_history(history, current, date=str(datetime.now().date())):` Adds current players to player_history\n",
    "- `def append_data(df, \\*args):` Adds row of data to dataframe\n",
    "- `def get_nick_name(full_name):` Returns usable nickname for new players\n",
    "- `def exists(name):` Returns if name exists or not\n",
    "- `def update_score(person=None):` Updates the score for all players by default\n",
    "- `def get_K(ELO):` Returns K constant by ELO\n",
    "- `def get_ELO(name):` Returns ELO of person\n",
    "- `def expected(ELO1, ELO2):` Returns expected win from ELO\n",
    "- `def new_elo(name1, name2, result):` Returns the new ELO for the two players\n",
    "- `def format_float(num):` Formats some values to specific decimals\n",
    "- `def update_players(person, result, elo):` Update the person's wins, losses, totals, elo\n",
    "- `def graph_players(rank_by, n):` Creates graph of top n players ranking changes\n",
    "\n",
    "**Bot commands:**\n",
    "- `async def graph(ctx, rank_by: Literal['elo', 'kd', 'rate', 'games'], n=len(players[\"nick_name\"])):` Graphs changes in rankings\n",
    "- `async def add(ctx, name1, name2, result, comments, should_save: typing.Optional[int]=1, date=str(datetime.now().date())):` Add games and update scores\n",
    "- `async def push(ctx, should_save: typing.Optional[int]=1, date=str(datetime.now().date())):` Pushes current scores to history\n",
    "- `async def datasave(ctx, df: Literal['players', 'games', 'player_history', 'all']):` Saves dataframe to csv\n",
    "- `async def update(ctx):` Updates score\n",
    "- `async def ranking(ctx, rank_by: Literal['elo', 'kd', 'rate', 'games'], n=10):` Shows the rankings\n",
    "- `async def members(ctx, full_name=\"false\"):` Shows the members\n",
    "- `async def matchup(ctx, name1, name2):` Shows matchups\n",
    "- `async def history(ctx, n=10):` Shows history of games\n",
    "- `async def game(ctx, num=len(games)):` Shows specific game\n",
    "- `async def profile(ctx, name):` Shows profile of player"
   ]
  },
  {
   "cell_type": "markdown",
   "metadata": {},
   "source": [
    "# HHS Shogi Club Discord Bot"
   ]
  },
  {
   "cell_type": "markdown",
   "metadata": {},
   "source": [
    "#### These are import statements"
   ]
  },
  {
   "cell_type": "code",
   "execution_count": 17,
   "metadata": {
    "execution": {
     "iopub.execute_input": "2023-12-19T20:46:47.895890Z",
     "iopub.status.busy": "2023-12-19T20:46:47.895453Z",
     "iopub.status.idle": "2023-12-19T20:46:47.903913Z",
     "shell.execute_reply": "2023-12-19T20:46:47.903133Z",
     "shell.execute_reply.started": "2023-12-19T20:46:47.895862Z"
    },
    "tags": []
   },
   "outputs": [],
   "source": [
    "import discord\n",
    "from discord.ext import commands\n",
    "from discord import app_commands\n",
    "\n",
    "import pandas as pd\n",
    "import numpy as np\n",
    "from datetime import datetime\n",
    "import math\n",
    "import typing\n",
    "from typing import Literal\n",
    "import matplotlib.pyplot as plt\n",
    "from datetime import timedelta\n"
   ]
  },
  {
   "cell_type": "markdown",
   "metadata": {},
   "source": [
    "#### Initializing bot object"
   ]
  },
  {
   "cell_type": "code",
   "execution_count": 2,
   "metadata": {
    "execution": {
     "iopub.execute_input": "2023-12-19T20:26:02.729911Z",
     "iopub.status.busy": "2023-12-19T20:26:02.729215Z",
     "iopub.status.idle": "2023-12-19T20:26:02.739434Z",
     "shell.execute_reply": "2023-12-19T20:26:02.738478Z",
     "shell.execute_reply.started": "2023-12-19T20:26:02.729872Z"
    },
    "tags": []
   },
   "outputs": [],
   "source": [
    "description = '''Howdy I'm the Shogi club bot.\n",
    "\n",
    "Here's some stuff I can do:'''\n",
    "\n",
    "intents = discord.Intents.default()\n",
    "intents.members = True\n",
    "intents.message_content = True\n",
    "\n",
    "bot = commands.Bot(command_prefix='?', description=description, intents=intents)"
   ]
  },
  {
   "cell_type": "markdown",
   "metadata": {},
   "source": [
    "#### Runs when bot is booted up"
   ]
  },
  {
   "cell_type": "code",
   "execution_count": 3,
   "metadata": {
    "execution": {
     "iopub.execute_input": "2023-12-19T20:26:06.356923Z",
     "iopub.status.busy": "2023-12-19T20:26:06.356497Z",
     "iopub.status.idle": "2023-12-19T20:26:06.362942Z",
     "shell.execute_reply": "2023-12-19T20:26:06.362025Z",
     "shell.execute_reply.started": "2023-12-19T20:26:06.356893Z"
    },
    "tags": []
   },
   "outputs": [],
   "source": [
    "@bot.event\n",
    "async def on_ready():\n",
    "    print(f'Logged in as {bot.user} (ID: {bot.user.id})')\n",
    "    print('------')"
   ]
  },
  {
   "cell_type": "code",
   "execution_count": 1,
   "metadata": {
    "execution": {
     "iopub.execute_input": "2024-02-02T18:27:04.517368Z",
     "iopub.status.busy": "2024-02-02T18:27:04.514825Z",
     "iopub.status.idle": "2024-02-02T18:27:04.536007Z",
     "shell.execute_reply": "2024-02-02T18:27:04.535074Z",
     "shell.execute_reply.started": "2024-02-02T18:27:04.517274Z"
    }
   },
   "outputs": [
    {
     "ename": "IndentationError",
     "evalue": "expected an indented block (840521945.py, line 1)",
     "output_type": "error",
     "traceback": [
      "\u001b[0;36m  Cell \u001b[0;32mIn[1], line 1\u001b[0;36m\u001b[0m\n\u001b[0;31m    class ShogiData:\u001b[0m\n\u001b[0m                    ^\u001b[0m\n\u001b[0;31mIndentationError\u001b[0m\u001b[0;31m:\u001b[0m expected an indented block\n"
     ]
    }
   ],
   "source": [
    "class ShogiData:\n",
    "    def __init__(self, test=False):\n",
    "        self.players = pd.read_csv((not test)*\"Shogi-Club-Discord-Bot/\"+\"data/players.csv\")\n",
    "        self.players.columns.name = \"players\"\n",
    "\n",
    "        self.score = pd.DataFrame()\n",
    "        self.score[\"nick_name\"] = players[\"nick_name\"]\n",
    "        self.score[\"kd\"] = players[\"win\"]/players[\"loss\"]\n",
    "        self.score[\"win_rate\"] = players[\"win\"]/players[\"total\"]*100\n",
    "\n",
    "        self.games = pd.read_csv((not test)*\"Shogi-Club-Discord-Bot/\"+\"data/games.csv\")\n",
    "        self.games.columns.name = \"games\"\n",
    "\n",
    "        self.player_history = pd.read_csv((not test)*\"Shogi-Club-Discord-Bot/\"+\"data/player_history.csv\")\n",
    "        self.player_history.columns.name = \"player_history\"\n",
    "        \n",
    "    "
   ]
  },
  {
   "cell_type": "code",
   "execution_count": 4,
   "metadata": {
    "execution": {
     "iopub.execute_input": "2023-12-19T20:26:07.457797Z",
     "iopub.status.busy": "2023-12-19T20:26:07.457104Z",
     "iopub.status.idle": "2023-12-19T20:26:07.763327Z",
     "shell.execute_reply": "2023-12-19T20:26:07.762539Z",
     "shell.execute_reply.started": "2023-12-19T20:26:07.457742Z"
    },
    "tags": []
   },
   "outputs": [
    {
     "ename": "FileNotFoundError",
     "evalue": "[Errno 2] No such file or directory: 'Shogi-Club-Discord-Bot/data/players.csv'",
     "output_type": "error",
     "traceback": [
      "\u001b[0;31m---------------------------------------------------------------------------\u001b[0m",
      "\u001b[0;31mFileNotFoundError\u001b[0m                         Traceback (most recent call last)",
      "Cell \u001b[0;32mIn[4], line 1\u001b[0m\n\u001b[0;32m----> 1\u001b[0m players \u001b[38;5;241m=\u001b[39m \u001b[43mpd\u001b[49m\u001b[38;5;241;43m.\u001b[39;49m\u001b[43mread_csv\u001b[49m\u001b[43m(\u001b[49m\u001b[38;5;124;43m\"\u001b[39;49m\u001b[38;5;124;43mShogi-Club-Discord-Bot/data/players.csv\u001b[39;49m\u001b[38;5;124;43m\"\u001b[39;49m\u001b[43m)\u001b[49m\n\u001b[1;32m      2\u001b[0m players\u001b[38;5;241m.\u001b[39mcolumns\u001b[38;5;241m.\u001b[39mname \u001b[38;5;241m=\u001b[39m \u001b[38;5;124m\"\u001b[39m\u001b[38;5;124mplayers\u001b[39m\u001b[38;5;124m\"\u001b[39m\n\u001b[1;32m      4\u001b[0m score \u001b[38;5;241m=\u001b[39m pd\u001b[38;5;241m.\u001b[39mDataFrame()\n",
      "File \u001b[0;32m~/miniforge3/envs/jupyter/lib/python3.9/site-packages/pandas/util/_decorators.py:211\u001b[0m, in \u001b[0;36mdeprecate_kwarg.<locals>._deprecate_kwarg.<locals>.wrapper\u001b[0;34m(*args, **kwargs)\u001b[0m\n\u001b[1;32m    209\u001b[0m     \u001b[38;5;28;01melse\u001b[39;00m:\n\u001b[1;32m    210\u001b[0m         kwargs[new_arg_name] \u001b[38;5;241m=\u001b[39m new_arg_value\n\u001b[0;32m--> 211\u001b[0m \u001b[38;5;28;01mreturn\u001b[39;00m \u001b[43mfunc\u001b[49m\u001b[43m(\u001b[49m\u001b[38;5;241;43m*\u001b[39;49m\u001b[43margs\u001b[49m\u001b[43m,\u001b[49m\u001b[43m \u001b[49m\u001b[38;5;241;43m*\u001b[39;49m\u001b[38;5;241;43m*\u001b[39;49m\u001b[43mkwargs\u001b[49m\u001b[43m)\u001b[49m\n",
      "File \u001b[0;32m~/miniforge3/envs/jupyter/lib/python3.9/site-packages/pandas/util/_decorators.py:331\u001b[0m, in \u001b[0;36mdeprecate_nonkeyword_arguments.<locals>.decorate.<locals>.wrapper\u001b[0;34m(*args, **kwargs)\u001b[0m\n\u001b[1;32m    325\u001b[0m \u001b[38;5;28;01mif\u001b[39;00m \u001b[38;5;28mlen\u001b[39m(args) \u001b[38;5;241m>\u001b[39m num_allow_args:\n\u001b[1;32m    326\u001b[0m     warnings\u001b[38;5;241m.\u001b[39mwarn(\n\u001b[1;32m    327\u001b[0m         msg\u001b[38;5;241m.\u001b[39mformat(arguments\u001b[38;5;241m=\u001b[39m_format_argument_list(allow_args)),\n\u001b[1;32m    328\u001b[0m         \u001b[38;5;167;01mFutureWarning\u001b[39;00m,\n\u001b[1;32m    329\u001b[0m         stacklevel\u001b[38;5;241m=\u001b[39mfind_stack_level(),\n\u001b[1;32m    330\u001b[0m     )\n\u001b[0;32m--> 331\u001b[0m \u001b[38;5;28;01mreturn\u001b[39;00m \u001b[43mfunc\u001b[49m\u001b[43m(\u001b[49m\u001b[38;5;241;43m*\u001b[39;49m\u001b[43margs\u001b[49m\u001b[43m,\u001b[49m\u001b[43m \u001b[49m\u001b[38;5;241;43m*\u001b[39;49m\u001b[38;5;241;43m*\u001b[39;49m\u001b[43mkwargs\u001b[49m\u001b[43m)\u001b[49m\n",
      "File \u001b[0;32m~/miniforge3/envs/jupyter/lib/python3.9/site-packages/pandas/io/parsers/readers.py:950\u001b[0m, in \u001b[0;36mread_csv\u001b[0;34m(filepath_or_buffer, sep, delimiter, header, names, index_col, usecols, squeeze, prefix, mangle_dupe_cols, dtype, engine, converters, true_values, false_values, skipinitialspace, skiprows, skipfooter, nrows, na_values, keep_default_na, na_filter, verbose, skip_blank_lines, parse_dates, infer_datetime_format, keep_date_col, date_parser, dayfirst, cache_dates, iterator, chunksize, compression, thousands, decimal, lineterminator, quotechar, quoting, doublequote, escapechar, comment, encoding, encoding_errors, dialect, error_bad_lines, warn_bad_lines, on_bad_lines, delim_whitespace, low_memory, memory_map, float_precision, storage_options)\u001b[0m\n\u001b[1;32m    935\u001b[0m kwds_defaults \u001b[38;5;241m=\u001b[39m _refine_defaults_read(\n\u001b[1;32m    936\u001b[0m     dialect,\n\u001b[1;32m    937\u001b[0m     delimiter,\n\u001b[0;32m   (...)\u001b[0m\n\u001b[1;32m    946\u001b[0m     defaults\u001b[38;5;241m=\u001b[39m{\u001b[38;5;124m\"\u001b[39m\u001b[38;5;124mdelimiter\u001b[39m\u001b[38;5;124m\"\u001b[39m: \u001b[38;5;124m\"\u001b[39m\u001b[38;5;124m,\u001b[39m\u001b[38;5;124m\"\u001b[39m},\n\u001b[1;32m    947\u001b[0m )\n\u001b[1;32m    948\u001b[0m kwds\u001b[38;5;241m.\u001b[39mupdate(kwds_defaults)\n\u001b[0;32m--> 950\u001b[0m \u001b[38;5;28;01mreturn\u001b[39;00m \u001b[43m_read\u001b[49m\u001b[43m(\u001b[49m\u001b[43mfilepath_or_buffer\u001b[49m\u001b[43m,\u001b[49m\u001b[43m \u001b[49m\u001b[43mkwds\u001b[49m\u001b[43m)\u001b[49m\n",
      "File \u001b[0;32m~/miniforge3/envs/jupyter/lib/python3.9/site-packages/pandas/io/parsers/readers.py:605\u001b[0m, in \u001b[0;36m_read\u001b[0;34m(filepath_or_buffer, kwds)\u001b[0m\n\u001b[1;32m    602\u001b[0m _validate_names(kwds\u001b[38;5;241m.\u001b[39mget(\u001b[38;5;124m\"\u001b[39m\u001b[38;5;124mnames\u001b[39m\u001b[38;5;124m\"\u001b[39m, \u001b[38;5;28;01mNone\u001b[39;00m))\n\u001b[1;32m    604\u001b[0m \u001b[38;5;66;03m# Create the parser.\u001b[39;00m\n\u001b[0;32m--> 605\u001b[0m parser \u001b[38;5;241m=\u001b[39m \u001b[43mTextFileReader\u001b[49m\u001b[43m(\u001b[49m\u001b[43mfilepath_or_buffer\u001b[49m\u001b[43m,\u001b[49m\u001b[43m \u001b[49m\u001b[38;5;241;43m*\u001b[39;49m\u001b[38;5;241;43m*\u001b[39;49m\u001b[43mkwds\u001b[49m\u001b[43m)\u001b[49m\n\u001b[1;32m    607\u001b[0m \u001b[38;5;28;01mif\u001b[39;00m chunksize \u001b[38;5;129;01mor\u001b[39;00m iterator:\n\u001b[1;32m    608\u001b[0m     \u001b[38;5;28;01mreturn\u001b[39;00m parser\n",
      "File \u001b[0;32m~/miniforge3/envs/jupyter/lib/python3.9/site-packages/pandas/io/parsers/readers.py:1442\u001b[0m, in \u001b[0;36mTextFileReader.__init__\u001b[0;34m(self, f, engine, **kwds)\u001b[0m\n\u001b[1;32m   1439\u001b[0m     \u001b[38;5;28mself\u001b[39m\u001b[38;5;241m.\u001b[39moptions[\u001b[38;5;124m\"\u001b[39m\u001b[38;5;124mhas_index_names\u001b[39m\u001b[38;5;124m\"\u001b[39m] \u001b[38;5;241m=\u001b[39m kwds[\u001b[38;5;124m\"\u001b[39m\u001b[38;5;124mhas_index_names\u001b[39m\u001b[38;5;124m\"\u001b[39m]\n\u001b[1;32m   1441\u001b[0m \u001b[38;5;28mself\u001b[39m\u001b[38;5;241m.\u001b[39mhandles: IOHandles \u001b[38;5;241m|\u001b[39m \u001b[38;5;28;01mNone\u001b[39;00m \u001b[38;5;241m=\u001b[39m \u001b[38;5;28;01mNone\u001b[39;00m\n\u001b[0;32m-> 1442\u001b[0m \u001b[38;5;28mself\u001b[39m\u001b[38;5;241m.\u001b[39m_engine \u001b[38;5;241m=\u001b[39m \u001b[38;5;28;43mself\u001b[39;49m\u001b[38;5;241;43m.\u001b[39;49m\u001b[43m_make_engine\u001b[49m\u001b[43m(\u001b[49m\u001b[43mf\u001b[49m\u001b[43m,\u001b[49m\u001b[43m \u001b[49m\u001b[38;5;28;43mself\u001b[39;49m\u001b[38;5;241;43m.\u001b[39;49m\u001b[43mengine\u001b[49m\u001b[43m)\u001b[49m\n",
      "File \u001b[0;32m~/miniforge3/envs/jupyter/lib/python3.9/site-packages/pandas/io/parsers/readers.py:1735\u001b[0m, in \u001b[0;36mTextFileReader._make_engine\u001b[0;34m(self, f, engine)\u001b[0m\n\u001b[1;32m   1733\u001b[0m     \u001b[38;5;28;01mif\u001b[39;00m \u001b[38;5;124m\"\u001b[39m\u001b[38;5;124mb\u001b[39m\u001b[38;5;124m\"\u001b[39m \u001b[38;5;129;01mnot\u001b[39;00m \u001b[38;5;129;01min\u001b[39;00m mode:\n\u001b[1;32m   1734\u001b[0m         mode \u001b[38;5;241m+\u001b[39m\u001b[38;5;241m=\u001b[39m \u001b[38;5;124m\"\u001b[39m\u001b[38;5;124mb\u001b[39m\u001b[38;5;124m\"\u001b[39m\n\u001b[0;32m-> 1735\u001b[0m \u001b[38;5;28mself\u001b[39m\u001b[38;5;241m.\u001b[39mhandles \u001b[38;5;241m=\u001b[39m \u001b[43mget_handle\u001b[49m\u001b[43m(\u001b[49m\n\u001b[1;32m   1736\u001b[0m \u001b[43m    \u001b[49m\u001b[43mf\u001b[49m\u001b[43m,\u001b[49m\n\u001b[1;32m   1737\u001b[0m \u001b[43m    \u001b[49m\u001b[43mmode\u001b[49m\u001b[43m,\u001b[49m\n\u001b[1;32m   1738\u001b[0m \u001b[43m    \u001b[49m\u001b[43mencoding\u001b[49m\u001b[38;5;241;43m=\u001b[39;49m\u001b[38;5;28;43mself\u001b[39;49m\u001b[38;5;241;43m.\u001b[39;49m\u001b[43moptions\u001b[49m\u001b[38;5;241;43m.\u001b[39;49m\u001b[43mget\u001b[49m\u001b[43m(\u001b[49m\u001b[38;5;124;43m\"\u001b[39;49m\u001b[38;5;124;43mencoding\u001b[39;49m\u001b[38;5;124;43m\"\u001b[39;49m\u001b[43m,\u001b[49m\u001b[43m \u001b[49m\u001b[38;5;28;43;01mNone\u001b[39;49;00m\u001b[43m)\u001b[49m\u001b[43m,\u001b[49m\n\u001b[1;32m   1739\u001b[0m \u001b[43m    \u001b[49m\u001b[43mcompression\u001b[49m\u001b[38;5;241;43m=\u001b[39;49m\u001b[38;5;28;43mself\u001b[39;49m\u001b[38;5;241;43m.\u001b[39;49m\u001b[43moptions\u001b[49m\u001b[38;5;241;43m.\u001b[39;49m\u001b[43mget\u001b[49m\u001b[43m(\u001b[49m\u001b[38;5;124;43m\"\u001b[39;49m\u001b[38;5;124;43mcompression\u001b[39;49m\u001b[38;5;124;43m\"\u001b[39;49m\u001b[43m,\u001b[49m\u001b[43m \u001b[49m\u001b[38;5;28;43;01mNone\u001b[39;49;00m\u001b[43m)\u001b[49m\u001b[43m,\u001b[49m\n\u001b[1;32m   1740\u001b[0m \u001b[43m    \u001b[49m\u001b[43mmemory_map\u001b[49m\u001b[38;5;241;43m=\u001b[39;49m\u001b[38;5;28;43mself\u001b[39;49m\u001b[38;5;241;43m.\u001b[39;49m\u001b[43moptions\u001b[49m\u001b[38;5;241;43m.\u001b[39;49m\u001b[43mget\u001b[49m\u001b[43m(\u001b[49m\u001b[38;5;124;43m\"\u001b[39;49m\u001b[38;5;124;43mmemory_map\u001b[39;49m\u001b[38;5;124;43m\"\u001b[39;49m\u001b[43m,\u001b[49m\u001b[43m \u001b[49m\u001b[38;5;28;43;01mFalse\u001b[39;49;00m\u001b[43m)\u001b[49m\u001b[43m,\u001b[49m\n\u001b[1;32m   1741\u001b[0m \u001b[43m    \u001b[49m\u001b[43mis_text\u001b[49m\u001b[38;5;241;43m=\u001b[39;49m\u001b[43mis_text\u001b[49m\u001b[43m,\u001b[49m\n\u001b[1;32m   1742\u001b[0m \u001b[43m    \u001b[49m\u001b[43merrors\u001b[49m\u001b[38;5;241;43m=\u001b[39;49m\u001b[38;5;28;43mself\u001b[39;49m\u001b[38;5;241;43m.\u001b[39;49m\u001b[43moptions\u001b[49m\u001b[38;5;241;43m.\u001b[39;49m\u001b[43mget\u001b[49m\u001b[43m(\u001b[49m\u001b[38;5;124;43m\"\u001b[39;49m\u001b[38;5;124;43mencoding_errors\u001b[39;49m\u001b[38;5;124;43m\"\u001b[39;49m\u001b[43m,\u001b[49m\u001b[43m \u001b[49m\u001b[38;5;124;43m\"\u001b[39;49m\u001b[38;5;124;43mstrict\u001b[39;49m\u001b[38;5;124;43m\"\u001b[39;49m\u001b[43m)\u001b[49m\u001b[43m,\u001b[49m\n\u001b[1;32m   1743\u001b[0m \u001b[43m    \u001b[49m\u001b[43mstorage_options\u001b[49m\u001b[38;5;241;43m=\u001b[39;49m\u001b[38;5;28;43mself\u001b[39;49m\u001b[38;5;241;43m.\u001b[39;49m\u001b[43moptions\u001b[49m\u001b[38;5;241;43m.\u001b[39;49m\u001b[43mget\u001b[49m\u001b[43m(\u001b[49m\u001b[38;5;124;43m\"\u001b[39;49m\u001b[38;5;124;43mstorage_options\u001b[39;49m\u001b[38;5;124;43m\"\u001b[39;49m\u001b[43m,\u001b[49m\u001b[43m \u001b[49m\u001b[38;5;28;43;01mNone\u001b[39;49;00m\u001b[43m)\u001b[49m\u001b[43m,\u001b[49m\n\u001b[1;32m   1744\u001b[0m \u001b[43m\u001b[49m\u001b[43m)\u001b[49m\n\u001b[1;32m   1745\u001b[0m \u001b[38;5;28;01massert\u001b[39;00m \u001b[38;5;28mself\u001b[39m\u001b[38;5;241m.\u001b[39mhandles \u001b[38;5;129;01mis\u001b[39;00m \u001b[38;5;129;01mnot\u001b[39;00m \u001b[38;5;28;01mNone\u001b[39;00m\n\u001b[1;32m   1746\u001b[0m f \u001b[38;5;241m=\u001b[39m \u001b[38;5;28mself\u001b[39m\u001b[38;5;241m.\u001b[39mhandles\u001b[38;5;241m.\u001b[39mhandle\n",
      "File \u001b[0;32m~/miniforge3/envs/jupyter/lib/python3.9/site-packages/pandas/io/common.py:856\u001b[0m, in \u001b[0;36mget_handle\u001b[0;34m(path_or_buf, mode, encoding, compression, memory_map, is_text, errors, storage_options)\u001b[0m\n\u001b[1;32m    851\u001b[0m \u001b[38;5;28;01melif\u001b[39;00m \u001b[38;5;28misinstance\u001b[39m(handle, \u001b[38;5;28mstr\u001b[39m):\n\u001b[1;32m    852\u001b[0m     \u001b[38;5;66;03m# Check whether the filename is to be opened in binary mode.\u001b[39;00m\n\u001b[1;32m    853\u001b[0m     \u001b[38;5;66;03m# Binary mode does not support 'encoding' and 'newline'.\u001b[39;00m\n\u001b[1;32m    854\u001b[0m     \u001b[38;5;28;01mif\u001b[39;00m ioargs\u001b[38;5;241m.\u001b[39mencoding \u001b[38;5;129;01mand\u001b[39;00m \u001b[38;5;124m\"\u001b[39m\u001b[38;5;124mb\u001b[39m\u001b[38;5;124m\"\u001b[39m \u001b[38;5;129;01mnot\u001b[39;00m \u001b[38;5;129;01min\u001b[39;00m ioargs\u001b[38;5;241m.\u001b[39mmode:\n\u001b[1;32m    855\u001b[0m         \u001b[38;5;66;03m# Encoding\u001b[39;00m\n\u001b[0;32m--> 856\u001b[0m         handle \u001b[38;5;241m=\u001b[39m \u001b[38;5;28;43mopen\u001b[39;49m\u001b[43m(\u001b[49m\n\u001b[1;32m    857\u001b[0m \u001b[43m            \u001b[49m\u001b[43mhandle\u001b[49m\u001b[43m,\u001b[49m\n\u001b[1;32m    858\u001b[0m \u001b[43m            \u001b[49m\u001b[43mioargs\u001b[49m\u001b[38;5;241;43m.\u001b[39;49m\u001b[43mmode\u001b[49m\u001b[43m,\u001b[49m\n\u001b[1;32m    859\u001b[0m \u001b[43m            \u001b[49m\u001b[43mencoding\u001b[49m\u001b[38;5;241;43m=\u001b[39;49m\u001b[43mioargs\u001b[49m\u001b[38;5;241;43m.\u001b[39;49m\u001b[43mencoding\u001b[49m\u001b[43m,\u001b[49m\n\u001b[1;32m    860\u001b[0m \u001b[43m            \u001b[49m\u001b[43merrors\u001b[49m\u001b[38;5;241;43m=\u001b[39;49m\u001b[43merrors\u001b[49m\u001b[43m,\u001b[49m\n\u001b[1;32m    861\u001b[0m \u001b[43m            \u001b[49m\u001b[43mnewline\u001b[49m\u001b[38;5;241;43m=\u001b[39;49m\u001b[38;5;124;43m\"\u001b[39;49m\u001b[38;5;124;43m\"\u001b[39;49m\u001b[43m,\u001b[49m\n\u001b[1;32m    862\u001b[0m \u001b[43m        \u001b[49m\u001b[43m)\u001b[49m\n\u001b[1;32m    863\u001b[0m     \u001b[38;5;28;01melse\u001b[39;00m:\n\u001b[1;32m    864\u001b[0m         \u001b[38;5;66;03m# Binary mode\u001b[39;00m\n\u001b[1;32m    865\u001b[0m         handle \u001b[38;5;241m=\u001b[39m \u001b[38;5;28mopen\u001b[39m(handle, ioargs\u001b[38;5;241m.\u001b[39mmode)\n",
      "\u001b[0;31mFileNotFoundError\u001b[0m: [Errno 2] No such file or directory: 'Shogi-Club-Discord-Bot/data/players.csv'"
     ]
    }
   ],
   "source": [
    "players = pd.read_csv(\"Shogi-Club-Discord-Bot/data/players.csv\")\n",
    "players.columns.name = \"players\"\n",
    "\n",
    "score = pd.DataFrame()\n",
    "score[\"nick_name\"] = players[\"nick_name\"]\n",
    "score[\"kd\"] = players[\"win\"]/players[\"loss\"]\n",
    "score[\"win_rate\"] = players[\"win\"]/players[\"total\"]*100\n",
    "\n",
    "games = pd.read_csv(\"Shogi-Club-Discord-Bot/data/games.csv\")\n",
    "games.columns.name = \"games\"\n",
    "\n",
    "player_history = pd.read_csv(\"Shogi-Club-Discord-Bot/data/player_history.csv\")\n",
    "player_history.columns.name = \"player_history\""
   ]
  },
  {
   "cell_type": "code",
   "execution_count": 5,
   "metadata": {
    "execution": {
     "iopub.execute_input": "2023-12-19T20:26:10.875930Z",
     "iopub.status.busy": "2023-12-19T20:26:10.875347Z",
     "iopub.status.idle": "2023-12-19T20:26:10.901428Z",
     "shell.execute_reply": "2023-12-19T20:26:10.900956Z",
     "shell.execute_reply.started": "2023-12-19T20:26:10.875902Z"
    },
    "tags": []
   },
   "outputs": [],
   "source": [
    "players = pd.read_csv(\"data/players.csv\")\n",
    "players.columns.name = \"players\"\n",
    "\n",
    "score = pd.DataFrame()\n",
    "score[\"nick_name\"] = players[\"nick_name\"]\n",
    "score[\"kd\"] = players[\"win\"]/players[\"loss\"]\n",
    "score[\"win_rate\"] = players[\"win\"]/players[\"total\"]*100\n",
    "\n",
    "games = pd.read_csv(\"data/games.csv\")\n",
    "games.columns.name = \"games\"\n",
    "\n",
    "player_history = pd.read_csv(\"data/player_history.csv\")\n",
    "player_history.columns.name = \"player_history\""
   ]
  },
  {
   "cell_type": "markdown",
   "metadata": {},
   "source": [
    "# Bot Features"
   ]
  },
  {
   "cell_type": "markdown",
   "metadata": {},
   "source": [
    "### Helper Functions"
   ]
  },
  {
   "cell_type": "code",
   "execution_count": 6,
   "metadata": {
    "execution": {
     "iopub.execute_input": "2023-11-08T10:22:06.228318Z",
     "iopub.status.busy": "2023-11-08T10:22:06.227909Z",
     "iopub.status.idle": "2023-11-08T10:22:06.235262Z",
     "shell.execute_reply": "2023-11-08T10:22:06.233987Z",
     "shell.execute_reply.started": "2023-11-08T10:22:06.228288Z"
    },
    "tags": []
   },
   "outputs": [],
   "source": [
    "# Saves dataframe as a csv file\n",
    "def save(df):\n",
    "    df.to_csv(\"Shogi-Club-Discord-Bot/data/\" + df.columns.name + \".csv\", index=False)"
   ]
  },
  {
   "cell_type": "code",
   "execution_count": 7,
   "metadata": {
    "execution": {
     "iopub.execute_input": "2023-11-08T10:22:06.466106Z",
     "iopub.status.busy": "2023-11-08T10:22:06.465287Z",
     "iopub.status.idle": "2023-11-08T10:22:06.475438Z",
     "shell.execute_reply": "2023-11-08T10:22:06.474320Z",
     "shell.execute_reply.started": "2023-11-08T10:22:06.465973Z"
    },
    "tags": []
   },
   "outputs": [],
   "source": [
    "# Adds current players to player_history\n",
    "def append_history(history, current, date=str(datetime.now().date())):\n",
    "    return pd.concat([history, current.assign(date=date)[list(current.columns[0:6])+[\"date\"]]], ignore_index=True)"
   ]
  },
  {
   "cell_type": "code",
   "execution_count": 8,
   "metadata": {
    "execution": {
     "iopub.execute_input": "2023-11-08T10:22:06.701830Z",
     "iopub.status.busy": "2023-11-08T10:22:06.700490Z",
     "iopub.status.idle": "2023-11-08T10:22:06.706690Z",
     "shell.execute_reply": "2023-11-08T10:22:06.705889Z",
     "shell.execute_reply.started": "2023-11-08T10:22:06.701724Z"
    },
    "tags": []
   },
   "outputs": [],
   "source": [
    "# Adds row of data to dataframe\n",
    "def append_data(df, *args):\n",
    "    df.loc[len(df)] = args"
   ]
  },
  {
   "cell_type": "code",
   "execution_count": 9,
   "metadata": {
    "execution": {
     "iopub.execute_input": "2023-11-08T10:22:06.909219Z",
     "iopub.status.busy": "2023-11-08T10:22:06.908726Z",
     "iopub.status.idle": "2023-11-08T10:22:06.918902Z",
     "shell.execute_reply": "2023-11-08T10:22:06.918018Z",
     "shell.execute_reply.started": "2023-11-08T10:22:06.909175Z"
    },
    "tags": []
   },
   "outputs": [],
   "source": [
    "# Returns usable nickname for new players\n",
    "def get_nick_name(full_name):\n",
    "    name_parts = full_name.split()\n",
    "    if not players[\"nick_name\"].isin([name_parts[0]]).any():\n",
    "        return name_parts[0]\n",
    "    else:\n",
    "        nick_name = name_parts[0]\n",
    "        i = 0\n",
    "        while players[\"nick_name\"].isin([nick_name]).any():\n",
    "            nick_name = full_name[0 : len(name_parts[0])+2+i].replace(\" \", \"_\")\n",
    "            i += 1\n",
    "        return nick_name"
   ]
  },
  {
   "cell_type": "code",
   "execution_count": 30,
   "metadata": {
    "execution": {
     "iopub.execute_input": "2023-11-08T10:51:15.653990Z",
     "iopub.status.busy": "2023-11-08T10:51:15.651871Z",
     "iopub.status.idle": "2023-11-08T10:51:15.665593Z",
     "shell.execute_reply": "2023-11-08T10:51:15.664678Z",
     "shell.execute_reply.started": "2023-11-08T10:51:15.653871Z"
    }
   },
   "outputs": [],
   "source": [
    "# Returns if name exists or not\n",
    "def exists(name):\n",
    "    if players[\"nick_name\"].isin([name]).any():\n",
    "        return name\n",
    "    elif players[\"full_name\"].isin([name]).any():\n",
    "        return players[players[\"full_name\"] == name][\"nick_name\"].values[0]\n",
    "    else:\n",
    "        return False"
   ]
  },
  {
   "cell_type": "code",
   "execution_count": 8,
   "metadata": {
    "execution": {
     "iopub.execute_input": "2023-12-19T20:26:30.788926Z",
     "iopub.status.busy": "2023-12-19T20:26:30.787855Z",
     "iopub.status.idle": "2023-12-19T20:26:30.801830Z",
     "shell.execute_reply": "2023-12-19T20:26:30.800668Z",
     "shell.execute_reply.started": "2023-12-19T20:26:30.788861Z"
    },
    "tags": []
   },
   "outputs": [],
   "source": [
    "# Updates the score for all players by default\n",
    "def update_score(person=None):\n",
    "    if person == None:\n",
    "        score = pd.DataFrame()\n",
    "        score[\"nick_name\"] = players[\"nick_name\"]\n",
    "        score[\"kd\"] = players[\"win\"]/players[\"loss\"]\n",
    "        score[\"win_rate\"] = players[\"win\"]/players[\"total\"]*100\n",
    "        return score\n",
    "    else:\n",
    "        score.loc[score.index[score[\"nick_name\"] == person],\"kd\"] = players[players[\"nick_name\"]==person][\"win\"]/players[players[\"nick_name\"]==person][\"loss\"]\n",
    "        score.loc[score.index[score[\"nick_name\"] == person],\"win_rate\"] = players[players[\"nick_name\"]==person][\"win\"]/players[players[\"nick_name\"]==person][\"total\"]*100\n",
    "        "
   ]
  },
  {
   "cell_type": "code",
   "execution_count": 11,
   "metadata": {
    "execution": {
     "iopub.execute_input": "2023-11-08T10:22:07.450666Z",
     "iopub.status.busy": "2023-11-08T10:22:07.449584Z",
     "iopub.status.idle": "2023-11-08T10:22:07.459357Z",
     "shell.execute_reply": "2023-11-08T10:22:07.458086Z",
     "shell.execute_reply.started": "2023-11-08T10:22:07.450610Z"
    },
    "tags": []
   },
   "outputs": [],
   "source": [
    "# Returns K constant by ELO\n",
    "def get_K(ELO):\n",
    "    return 194.491 * math.exp(-0.000888269 * ELO)"
   ]
  },
  {
   "cell_type": "code",
   "execution_count": 12,
   "metadata": {
    "execution": {
     "iopub.execute_input": "2023-11-08T10:22:07.777021Z",
     "iopub.status.busy": "2023-11-08T10:22:07.776626Z",
     "iopub.status.idle": "2023-11-08T10:22:07.786534Z",
     "shell.execute_reply": "2023-11-08T10:22:07.783279Z",
     "shell.execute_reply.started": "2023-11-08T10:22:07.776995Z"
    },
    "tags": []
   },
   "outputs": [],
   "source": [
    "# Returns ELO of person\n",
    "def get_ELO(name):\n",
    "    return players.loc[players.index[players[\"nick_name\"] == name],\"ELO\"].values[0]"
   ]
  },
  {
   "cell_type": "code",
   "execution_count": 13,
   "metadata": {
    "execution": {
     "iopub.execute_input": "2023-11-08T10:22:08.070849Z",
     "iopub.status.busy": "2023-11-08T10:22:08.069466Z",
     "iopub.status.idle": "2023-11-08T10:22:08.077235Z",
     "shell.execute_reply": "2023-11-08T10:22:08.076120Z",
     "shell.execute_reply.started": "2023-11-08T10:22:08.070780Z"
    },
    "tags": []
   },
   "outputs": [],
   "source": [
    "# Returns expected win from ELO\n",
    "def expected(ELO1, ELO2):\n",
    "    return 1 / (1 + 10 ** ((ELO2 - ELO1) / 400))"
   ]
  },
  {
   "cell_type": "code",
   "execution_count": 14,
   "metadata": {
    "execution": {
     "iopub.execute_input": "2023-11-08T10:22:08.721525Z",
     "iopub.status.busy": "2023-11-08T10:22:08.720582Z",
     "iopub.status.idle": "2023-11-08T10:22:08.729249Z",
     "shell.execute_reply": "2023-11-08T10:22:08.728202Z",
     "shell.execute_reply.started": "2023-11-08T10:22:08.721494Z"
    },
    "tags": []
   },
   "outputs": [],
   "source": [
    "# Returns the new ELO for the two players\n",
    "def new_elo(name1, name2, result):\n",
    "    ELO1 = get_ELO(name1)\n",
    "    ELO2 = get_ELO(name2)\n",
    "    change1 = get_K(ELO1) * (result - expected(ELO1, ELO2))\n",
    "    change2 = get_K(ELO2) * (1 - result - expected(ELO2, ELO1))\n",
    "    return [ELO1 + change1, change1, ELO2 + change2, change2]"
   ]
  },
  {
   "cell_type": "code",
   "execution_count": 15,
   "metadata": {
    "execution": {
     "iopub.execute_input": "2023-11-08T10:22:09.008134Z",
     "iopub.status.busy": "2023-11-08T10:22:09.007597Z",
     "iopub.status.idle": "2023-11-08T10:22:09.014240Z",
     "shell.execute_reply": "2023-11-08T10:22:09.013216Z",
     "shell.execute_reply.started": "2023-11-08T10:22:09.008105Z"
    },
    "tags": []
   },
   "outputs": [],
   "source": [
    "# Formats some values to specific decimals\n",
    "def format_float(num):\n",
    "    return f\"{num:.1f}\"\n"
   ]
  },
  {
   "cell_type": "code",
   "execution_count": 33,
   "metadata": {
    "execution": {
     "iopub.execute_input": "2023-11-08T11:14:42.882969Z",
     "iopub.status.busy": "2023-11-08T11:14:42.881001Z",
     "iopub.status.idle": "2023-11-08T11:14:42.900418Z",
     "shell.execute_reply": "2023-11-08T11:14:42.897710Z",
     "shell.execute_reply.started": "2023-11-08T11:14:42.882853Z"
    }
   },
   "outputs": [],
   "source": [
    "# Update the person's wins, losses, totals, elo\n",
    "def update_players(person, result, elo):\n",
    "    if result == \"W\":\n",
    "        players.loc[players.index[players[\"nick_name\"] == person],\"win\"] += 1\n",
    "    elif result == \"L\":\n",
    "        players.loc[players.index[players[\"nick_name\"] == person],\"loss\"] += 1\n",
    "    players.loc[players.index[players[\"nick_name\"] == person],\"total\"] += 1\n",
    "    \n",
    "    players.loc[players.index[players[\"nick_name\"] == person],\"ELO\"] = elo"
   ]
  },
  {
   "cell_type": "code",
   "execution_count": 23,
   "metadata": {
    "execution": {
     "iopub.execute_input": "2023-12-19T20:58:03.979343Z",
     "iopub.status.busy": "2023-12-19T20:58:03.977279Z",
     "iopub.status.idle": "2023-12-19T20:58:03.994347Z",
     "shell.execute_reply": "2023-12-19T20:58:03.993572Z",
     "shell.execute_reply.started": "2023-12-19T20:58:03.979222Z"
    },
    "tags": []
   },
   "outputs": [],
   "source": [
    "# Creates graph of top n players ranking changes\n",
    "def graph_players(rank_by, n):\n",
    "    column_names = {\"elo\":\"ELO\", \"games\":\"total\", \"kd\":\"kd\", \"rate\":\"win_rate\"}\n",
    "    df_choice = {\"elo\":players, \"games\":players, \"kd\":update_score(), \"rate\":update_score()}\n",
    "    pretty_names = {\"elo\":\"ELO\", \"games\":\"# Played\", \"kd\":\"K/D\", \"rate\":\"% Won\"}\n",
    "    sorted_rankings = df_choice[rank_by].sort_values(by=column_names[rank_by], ascending=False)[\"nick_name\"][0:n]\n",
    "    \n",
    "    display(sorted_rankings.values)\n",
    "    fig, ax = plt.subplots()\n",
    "    aux = player_history[player_history[\"nick_name\"].isin(sorted_rankings)].copy()\n",
    "    aux[\"date\"] = pd.to_datetime(aux['date'])\n",
    "    \n",
    "    if rank_by == \"kd\":\n",
    "        aux[\"rank_by\"] = aux[\"win\"]/aux[\"loss\"]\n",
    "    elif rank_by == \"rate\":\n",
    "        aux[\"rank_by\"] = aux[\"win\"]/aux[\"total\"]\n",
    "    else:\n",
    "        aux[\"rank_by\"] = aux[column_names[rank_by]]\n",
    "    \n",
    "    for player in sorted_rankings.values:\n",
    "        x_time = aux[aux[\"nick_name\"]==player][\"date\"].values\n",
    "        y_ranking = aux[aux[\"nick_name\"]==player][\"rank_by\"].values\n",
    "        for day in np.arange(x_time[0], x_time[-1], dtype='datetime64[D]'):\n",
    "            print(day)\n",
    "        print(x_time[1]-x_time[0] == np.timedelta64(1,'D'))\n",
    "        ax.plot(x_time, y_ranking)\n",
    "        pass\n",
    "        ## use string formatting to create a new column with Month-Day\n",
    "        #max_temps['Month_Day'] = max_temps['Date'].dt.strftime('%m') + \"-\" + max_temps['Date'].dt.strftime('%d')\n",
    "        #ax.plot([\n",
    "    #display(player_history[player_history[\"nick_name\"].isin(sorted_rankings)])"
   ]
  },
  {
   "cell_type": "code",
   "execution_count": 24,
   "metadata": {
    "execution": {
     "iopub.execute_input": "2023-12-19T20:58:04.361032Z",
     "iopub.status.busy": "2023-12-19T20:58:04.360279Z",
     "iopub.status.idle": "2023-12-19T20:58:04.541559Z",
     "shell.execute_reply": "2023-12-19T20:58:04.540971Z",
     "shell.execute_reply.started": "2023-12-19T20:58:04.360988Z"
    },
    "tags": []
   },
   "outputs": [
    {
     "data": {
      "text/plain": [
       "array(['Daniel', 'Sophia', 'Dhruv', 'Yoni', 'Rohan'], dtype=object)"
      ]
     },
     "metadata": {},
     "output_type": "display_data"
    },
    {
     "name": "stdout",
     "output_type": "stream",
     "text": [
      "2023-09-28\n",
      "2023-09-29\n",
      "2023-09-30\n",
      "2023-10-01\n",
      "2023-10-02\n",
      "2023-10-03\n",
      "2023-10-04\n",
      "2023-10-05\n",
      "2023-10-06\n",
      "2023-10-07\n",
      "2023-10-08\n",
      "2023-10-09\n",
      "2023-10-10\n",
      "2023-10-11\n",
      "2023-10-12\n",
      "2023-10-13\n",
      "2023-10-14\n",
      "2023-10-15\n",
      "2023-10-16\n",
      "2023-10-17\n",
      "2023-10-18\n",
      "2023-10-19\n",
      "2023-10-20\n",
      "2023-10-21\n",
      "2023-10-22\n",
      "2023-10-23\n",
      "2023-10-24\n",
      "2023-10-25\n",
      "2023-10-26\n",
      "2023-10-27\n",
      "2023-10-28\n",
      "2023-10-29\n",
      "2023-10-30\n",
      "2023-10-31\n",
      "2023-11-01\n",
      "2023-11-02\n",
      "2023-11-03\n",
      "2023-11-04\n",
      "2023-11-05\n",
      "2023-11-06\n",
      "2023-11-07\n",
      "2023-11-08\n",
      "2023-11-09\n",
      "2023-11-10\n",
      "2023-11-11\n",
      "2023-11-12\n",
      "2023-11-13\n",
      "2023-11-14\n",
      "2023-11-15\n",
      "2023-11-16\n",
      "2023-11-17\n",
      "2023-11-18\n",
      "2023-11-19\n",
      "2023-11-20\n",
      "2023-11-21\n",
      "2023-11-22\n",
      "2023-11-23\n",
      "2023-11-24\n",
      "2023-11-25\n",
      "2023-11-26\n",
      "2023-11-27\n",
      "2023-11-28\n",
      "2023-11-29\n",
      "2023-11-30\n",
      "2023-12-01\n",
      "2023-12-02\n",
      "2023-12-03\n",
      "2023-12-04\n",
      "2023-12-05\n",
      "2023-12-06\n",
      "False\n",
      "2023-11-09\n",
      "2023-11-10\n",
      "2023-11-11\n",
      "2023-11-12\n",
      "2023-11-13\n",
      "2023-11-14\n",
      "2023-11-15\n",
      "2023-11-16\n",
      "2023-11-17\n",
      "2023-11-18\n",
      "2023-11-19\n",
      "2023-11-20\n",
      "2023-11-21\n",
      "2023-11-22\n",
      "2023-11-23\n",
      "2023-11-24\n",
      "2023-11-25\n",
      "2023-11-26\n",
      "2023-11-27\n",
      "2023-11-28\n",
      "2023-11-29\n",
      "2023-11-30\n",
      "2023-12-01\n",
      "2023-12-02\n",
      "2023-12-03\n",
      "2023-12-04\n",
      "2023-12-05\n",
      "2023-12-06\n",
      "False\n",
      "2023-09-21\n",
      "2023-09-22\n",
      "2023-09-23\n",
      "2023-09-24\n",
      "2023-09-25\n",
      "2023-09-26\n",
      "2023-09-27\n",
      "2023-09-28\n",
      "2023-09-29\n",
      "2023-09-30\n",
      "2023-10-01\n",
      "2023-10-02\n",
      "2023-10-03\n",
      "2023-10-04\n",
      "2023-10-05\n",
      "2023-10-06\n",
      "2023-10-07\n",
      "2023-10-08\n",
      "2023-10-09\n",
      "2023-10-10\n",
      "2023-10-11\n",
      "2023-10-12\n",
      "2023-10-13\n",
      "2023-10-14\n",
      "2023-10-15\n",
      "2023-10-16\n",
      "2023-10-17\n",
      "2023-10-18\n",
      "2023-10-19\n",
      "2023-10-20\n",
      "2023-10-21\n",
      "2023-10-22\n",
      "2023-10-23\n",
      "2023-10-24\n",
      "2023-10-25\n",
      "2023-10-26\n",
      "2023-10-27\n",
      "2023-10-28\n",
      "2023-10-29\n",
      "2023-10-30\n",
      "2023-10-31\n",
      "2023-11-01\n",
      "2023-11-02\n",
      "2023-11-03\n",
      "2023-11-04\n",
      "2023-11-05\n",
      "2023-11-06\n",
      "2023-11-07\n",
      "2023-11-08\n",
      "2023-11-09\n",
      "2023-11-10\n",
      "2023-11-11\n",
      "2023-11-12\n",
      "2023-11-13\n",
      "2023-11-14\n",
      "2023-11-15\n",
      "2023-11-16\n",
      "2023-11-17\n",
      "2023-11-18\n",
      "2023-11-19\n",
      "2023-11-20\n",
      "2023-11-21\n",
      "2023-11-22\n",
      "2023-11-23\n",
      "2023-11-24\n",
      "2023-11-25\n",
      "2023-11-26\n",
      "2023-11-27\n",
      "2023-11-28\n",
      "2023-11-29\n",
      "2023-11-30\n",
      "2023-12-01\n",
      "2023-12-02\n",
      "2023-12-03\n",
      "2023-12-04\n",
      "2023-12-05\n",
      "2023-12-06\n",
      "False\n"
     ]
    },
    {
     "ename": "IndexError",
     "evalue": "index 1 is out of bounds for axis 0 with size 1",
     "output_type": "error",
     "traceback": [
      "\u001b[0;31m---------------------------------------------------------------------------\u001b[0m",
      "\u001b[0;31mIndexError\u001b[0m                                Traceback (most recent call last)",
      "Cell \u001b[0;32mIn[24], line 1\u001b[0m\n\u001b[0;32m----> 1\u001b[0m \u001b[43mgraph_players\u001b[49m\u001b[43m(\u001b[49m\u001b[38;5;124;43m\"\u001b[39;49m\u001b[38;5;124;43melo\u001b[39;49m\u001b[38;5;124;43m\"\u001b[39;49m\u001b[43m,\u001b[49m\u001b[43m \u001b[49m\u001b[38;5;241;43m5\u001b[39;49m\u001b[43m)\u001b[49m\n\u001b[1;32m      2\u001b[0m \u001b[38;5;66;03m#in sorted_rankings.values\u001b[39;00m\n",
      "Cell \u001b[0;32mIn[23], line 25\u001b[0m, in \u001b[0;36mgraph_players\u001b[0;34m(rank_by, n)\u001b[0m\n\u001b[1;32m     23\u001b[0m \u001b[38;5;28;01mfor\u001b[39;00m day \u001b[38;5;129;01min\u001b[39;00m np\u001b[38;5;241m.\u001b[39marange(x_time[\u001b[38;5;241m0\u001b[39m], x_time[\u001b[38;5;241m-\u001b[39m\u001b[38;5;241m1\u001b[39m], dtype\u001b[38;5;241m=\u001b[39m\u001b[38;5;124m'\u001b[39m\u001b[38;5;124mdatetime64[D]\u001b[39m\u001b[38;5;124m'\u001b[39m):\n\u001b[1;32m     24\u001b[0m     \u001b[38;5;28mprint\u001b[39m(day)\n\u001b[0;32m---> 25\u001b[0m \u001b[38;5;28mprint\u001b[39m(\u001b[43mx_time\u001b[49m\u001b[43m[\u001b[49m\u001b[38;5;241;43m1\u001b[39;49m\u001b[43m]\u001b[49m\u001b[38;5;241m-\u001b[39mx_time[\u001b[38;5;241m0\u001b[39m] \u001b[38;5;241m==\u001b[39m np\u001b[38;5;241m.\u001b[39mtimedelta64(\u001b[38;5;241m1\u001b[39m,\u001b[38;5;124m'\u001b[39m\u001b[38;5;124mD\u001b[39m\u001b[38;5;124m'\u001b[39m))\n\u001b[1;32m     26\u001b[0m ax\u001b[38;5;241m.\u001b[39mplot(x_time, y_ranking)\n\u001b[1;32m     27\u001b[0m \u001b[38;5;28;01mpass\u001b[39;00m\n",
      "\u001b[0;31mIndexError\u001b[0m: index 1 is out of bounds for axis 0 with size 1"
     ]
    },
    {
     "data": {
      "image/png": "[encoded data removed]",
      "text/plain": [
       "<Figure size 640x480 with 1 Axes>"
      ]
     },
     "metadata": {},
     "output_type": "display_data"
    }
   ],
   "source": [
    "graph_players(\"elo\", 5)\n",
    "#in sorted_rankings.values"
   ]
  },
  {
   "cell_type": "markdown",
   "metadata": {},
   "source": [
    "### Bot Commands"
   ]
  },
  {
   "cell_type": "code",
   "execution_count": null,
   "metadata": {},
   "outputs": [],
   "source": [
    "# Graphs changes in rankings\n",
    "@bot.command()\n",
    "async def graph(ctx, rank_by: Literal['elo', 'kd', 'rate', 'games'], n=len(players[\"nick_name\"])):\n",
    "    \"\"\"Ranking of top n players by ELO, K/D, win%, games played.\"\"\"\n",
    "    \n",
    "    \n",
    "    result = f\"Rank:      Name:  {pretty_names[rank_by]:>8}:\\n\"\n",
    "                      \n",
    "    sorted_rankings = df_choice[rank_by].sort_values(by=column_names[rank_by], ascending=False)\n",
    "    for i in range(min(n, len(players))):\n",
    "        if rank_by == \"kd\":\n",
    "            result = result + f\"{i+1:>5} {sorted_rankings.iloc[i]['nick_name']:>10}   {sorted_rankings.iloc[i][column_names[rank_by]]:>8.2f}\\n\"\n",
    "        elif rank_by == \"games\":\n",
    "            result = result + f\"{i+1:>5} {sorted_rankings.iloc[i]['nick_name']:>10}   {sorted_rankings.iloc[i][column_names[rank_by]]:>8}\\n\"\n",
    "        else:\n",
    "            result = result + f\"{i+1:>5} {sorted_rankings.iloc[i]['nick_name']:>10}   {sorted_rankings.iloc[i][column_names[rank_by]]:>8.1f}\\n\"\n",
    "    await ctx.send(\"```\\n\"+result+\"```\")"
   ]
  },
  {
   "cell_type": "code",
   "execution_count": 34,
   "metadata": {
    "execution": {
     "iopub.execute_input": "2023-11-08T11:19:42.717880Z",
     "iopub.status.busy": "2023-11-08T11:19:42.717188Z",
     "iopub.status.idle": "2023-11-08T11:19:42.743841Z",
     "shell.execute_reply": "2023-11-08T11:19:42.742840Z",
     "shell.execute_reply.started": "2023-11-08T11:19:42.717812Z"
    }
   },
   "outputs": [],
   "source": [
    "# Add games and update scores\n",
    "@bot.command()\n",
    "@commands.is_owner()\n",
    "async def add(ctx, name1, name2, result, comments, should_save: typing.Optional[int]=1, date=str(datetime.now().date())):\n",
    "    \"\"\"P1, P2, W/L/D, info, save(opt. 1), date(opt. ymd)\"\"\"\n",
    "    result_str = \"\"\n",
    "    nick1 = exists(name1)\n",
    "    if not nick1:\n",
    "        nick1 = get_nick_name(name1)\n",
    "        append_data(players, nick1, name1, 0, 0, 0, 1500)\n",
    "        result_str = result_str + f\"Added new player: {nick1} ({name1})\\n\"\n",
    "        \n",
    "    nick2 = exists(name2)\n",
    "    if not nick2:\n",
    "        nick2 = get_nick_name(name2)\n",
    "        append_data(players, nick2, name2, 0, 0, 0, 1500)\n",
    "        result_str = result_str + f\"Added new player: {nick2} ({name2})\\n\"\n",
    "    \n",
    "    ELO1 = get_ELO(nick1)\n",
    "    ELO2 = get_ELO(nick2)\n",
    "    \n",
    "    reverse_result = {\"W\":\"L\", \"L\":\"W\", \"D\":\"D\"}\n",
    "    result_score = {\"W\":1, \"L\":0}\n",
    "    \n",
    "    if result == \"W\" or result == \"L\":\n",
    "        new_ELO = new_elo(nick1, nick2, result_score[result])\n",
    "    else:\n",
    "        new_ELO = [ELO1, 0, ELO2, 0]\n",
    "    \n",
    "    append_data(games, nick1, nick2, result, date, expected(ELO1, ELO2), new_ELO[1], new_ELO[3], comments)\n",
    "    result_str = result_str + f\"Added new game: {nick1}, {nick2}, {result}, {date}, {expected(ELO1, ELO2)}, {new_ELO[1]}, {new_ELO[3]}, {comments})\\n\"\n",
    "    \n",
    "    update_players(nick1, result, new_ELO[0])\n",
    "    result_str = result_str + f\"Updated Player: {nick1}, {result}, {new_ELO[0]})\\n\"\n",
    "    \n",
    "    update_players(nick2, reverse_result[result], new_ELO[2])\n",
    "    result_str = result_str + f\"Updated Player: {nick2}, {reverse_result[result]}, {new_ELO[2]})\\n\"\n",
    "    \n",
    "    score = update_score()\n",
    "    result_str = result_str + f\"Updated Score\\n\"\n",
    "    \n",
    "    if should_save == 1:\n",
    "        save(games)\n",
    "        save(players)\n",
    "    result_str = result_str + f\"Saved games and players\\n\"\n",
    "    \n",
    "    await ctx.send(\"```\\n\"+result_str+\"```\")"
   ]
  },
  {
   "cell_type": "code",
   "execution_count": 35,
   "metadata": {
    "execution": {
     "iopub.execute_input": "2023-11-08T11:25:27.061324Z",
     "iopub.status.busy": "2023-11-08T11:25:27.059405Z",
     "iopub.status.idle": "2023-11-08T11:25:27.072661Z",
     "shell.execute_reply": "2023-11-08T11:25:27.071570Z",
     "shell.execute_reply.started": "2023-11-08T11:25:27.061255Z"
    }
   },
   "outputs": [],
   "source": [
    "# Pushes current scores to history\n",
    "@bot.command()\n",
    "@commands.is_owner()\n",
    "async def push(ctx, should_save: typing.Optional[int]=1, date=str(datetime.now().date())):\n",
    "    \"\"\"save(opt. 1), date(opt. ymd)\"\"\"\n",
    "    result = \"\"\n",
    "    player_history = pd.read_csv(\"Shogi-Club-Discord-Bot/data/player_history.csv\")\n",
    "    player_history.columns.name = \"player_history\"\n",
    "    aux_player_history = append_history(player_history, players, date=date)\n",
    "    player_history = aux_player_history\n",
    "    player_history.columns.name = \"player_history\"\n",
    "    result = result + f\"Pushed to history\\n\"\n",
    "    \n",
    "    if should_save == 1:\n",
    "        save(player_history)\n",
    "    result = result + f\"Saved player_history\\n\"\n",
    "    \n",
    "    await ctx.send(\"```\\n\"+result+\"```\")"
   ]
  },
  {
   "cell_type": "code",
   "execution_count": 36,
   "metadata": {
    "execution": {
     "iopub.execute_input": "2023-11-08T11:30:16.701526Z",
     "iopub.status.busy": "2023-11-08T11:30:16.700870Z",
     "iopub.status.idle": "2023-11-08T11:30:16.713679Z",
     "shell.execute_reply": "2023-11-08T11:30:16.712655Z",
     "shell.execute_reply.started": "2023-11-08T11:30:16.701490Z"
    }
   },
   "outputs": [],
   "source": [
    "# Saves dataframe to csv\n",
    "@bot.command()\n",
    "@commands.is_owner()\n",
    "async def datasave(ctx, df: Literal['players', 'games', 'player_history', 'all']):\n",
    "    \"\"\"df('players', 'games', 'player_history', 'all')\"\"\"\n",
    "    result = \"\"\n",
    "    \n",
    "    if df == \"all\":\n",
    "        save(player_history)\n",
    "        save(games)\n",
    "        save(players)\n",
    "        result = result + f\"Saved all\\n\"\n",
    "    else:\n",
    "        to_df = {'players':players, 'games':games, 'player_history':player_history}\n",
    "        save(to_df[df])\n",
    "        result = result + \"Saved \" + df\n",
    "    \n",
    "    await ctx.send(\"```\\n\"+result+\"```\")"
   ]
  },
  {
   "cell_type": "code",
   "execution_count": 38,
   "metadata": {
    "execution": {
     "iopub.execute_input": "2023-11-08T11:32:30.401022Z",
     "iopub.status.busy": "2023-11-08T11:32:30.400332Z",
     "iopub.status.idle": "2023-11-08T11:32:30.418565Z",
     "shell.execute_reply": "2023-11-08T11:32:30.416782Z",
     "shell.execute_reply.started": "2023-11-08T11:32:30.400981Z"
    },
    "tags": []
   },
   "outputs": [],
   "source": [
    "# Updates score\n",
    "@bot.command()\n",
    "@commands.is_owner()\n",
    "async def update(ctx):\n",
    "    \"\"\"Update scores\"\"\"\n",
    "    \n",
    "    score = update_score()\n",
    "    result = \"Updated Score\"\n",
    "    await ctx.send(\"```\\n\"+result+\"```\")"
   ]
  },
  {
   "cell_type": "code",
   "execution_count": 16,
   "metadata": {
    "execution": {
     "iopub.execute_input": "2023-11-08T10:22:10.150517Z",
     "iopub.status.busy": "2023-11-08T10:22:10.149779Z",
     "iopub.status.idle": "2023-11-08T10:22:10.165323Z",
     "shell.execute_reply": "2023-11-08T10:22:10.163884Z",
     "shell.execute_reply.started": "2023-11-08T10:22:10.150467Z"
    },
    "tags": []
   },
   "outputs": [],
   "source": [
    "# Shows the rankings\n",
    "@bot.command()\n",
    "async def ranking(ctx, rank_by: Literal['elo', 'kd', 'rate', 'games'], n=10):\n",
    "    \"\"\"Ranking of top n players by ELO, K/D, win%, games played.\"\"\"\n",
    "    \n",
    "    column_names = {\"elo\":\"ELO\", \"games\":\"total\", \"kd\":\"kd\", \"rate\":\"win_rate\"}\n",
    "    df_choice = {\"elo\":players, \"games\":players, \"kd\":update_score(), \"rate\":update_score()}\n",
    "    pretty_names = {\"elo\":\"ELO\", \"games\":\"# Played\", \"kd\":\"K/D\", \"rate\":\"% Won\"}\n",
    "    result = f\"Rank:      Name:  {pretty_names[rank_by]:>8}:\\n\"\n",
    "                      \n",
    "    sorted_rankings = df_choice[rank_by].sort_values(by=column_names[rank_by], ascending=False)\n",
    "    for i in range(min(n, len(players))):\n",
    "        if rank_by == \"kd\":\n",
    "            result = result + f\"{i+1:>5} {sorted_rankings.iloc[i]['nick_name']:>10}   {sorted_rankings.iloc[i][column_names[rank_by]]:>8.2f}\\n\"\n",
    "        elif rank_by == \"games\":\n",
    "            result = result + f\"{i+1:>5} {sorted_rankings.iloc[i]['nick_name']:>10}   {sorted_rankings.iloc[i][column_names[rank_by]]:>8}\\n\"\n",
    "        else:\n",
    "            result = result + f\"{i+1:>5} {sorted_rankings.iloc[i]['nick_name']:>10}   {sorted_rankings.iloc[i][column_names[rank_by]]:>8.1f}\\n\"\n",
    "    await ctx.send(\"```\\n\"+result+\"```\")"
   ]
  },
  {
   "cell_type": "code",
   "execution_count": 17,
   "metadata": {
    "execution": {
     "iopub.execute_input": "2023-11-08T10:22:10.903052Z",
     "iopub.status.busy": "2023-11-08T10:22:10.902212Z",
     "iopub.status.idle": "2023-11-08T10:22:10.915100Z",
     "shell.execute_reply": "2023-11-08T10:22:10.913816Z",
     "shell.execute_reply.started": "2023-11-08T10:22:10.902891Z"
    },
    "tags": []
   },
   "outputs": [],
   "source": [
    "# Shows the members\n",
    "@bot.command()\n",
    "async def members(ctx, full_name=\"false\"):\n",
    "    \"\"\"List of member names on data set\"\"\"\n",
    "    \n",
    "    if full_name == \"false\":\n",
    "        result = f\"Name:\\n\"\n",
    "        sorted_rankings = players.sort_values(by=\"total\", ascending=False)\n",
    "        for i in range(len(players)):\n",
    "            result = result + f\"{sorted_rankings.iloc[i]['nick_name']:>10}\\n\"\n",
    "    else:\n",
    "        result = f\"Names:\\n\"\n",
    "        sorted_rankings = players.sort_values(by=\"total\", ascending=False)\n",
    "        for i in range(len(players)):\n",
    "            result = result + f\"{sorted_rankings.iloc[i]['full_name']:>22}\\n\"\n",
    "\n",
    "    await ctx.send(\"```\\n\"+result+\"```\")"
   ]
  },
  {
   "cell_type": "code",
   "execution_count": 18,
   "metadata": {
    "execution": {
     "iopub.execute_input": "2023-11-08T10:22:11.170736Z",
     "iopub.status.busy": "2023-11-08T10:22:11.170278Z",
     "iopub.status.idle": "2023-11-08T10:22:11.179463Z",
     "shell.execute_reply": "2023-11-08T10:22:11.178564Z",
     "shell.execute_reply.started": "2023-11-08T10:22:11.170675Z"
    },
    "tags": []
   },
   "outputs": [],
   "source": [
    "# Shows matchups\n",
    "@bot.command()\n",
    "async def matchup(ctx, name1, name2):\n",
    "    \"\"\"Probabilities on hypothetical matchups\"\"\"\n",
    "    result = f\"{'Matchup':^27}\\n{name1:<12} v {name2:>12}\\n\"\n",
    "    result = result + f\"ELO: {get_ELO(name1):<7.1f}   {'ELO: ' + format_float(get_ELO(name2)):>12}\\n\"\n",
    "    result = result + f\"Win%: {100*expected(get_ELO(name1),get_ELO(name2)):<6.1f}   {'Win%: ' + format_float(100*expected(get_ELO(name2),get_ELO(name1))):>12}\\n\"\n",
    "    await ctx.send(\"```\\n\"+result+\"```\")"
   ]
  },
  {
   "cell_type": "code",
   "execution_count": 19,
   "metadata": {
    "execution": {
     "iopub.execute_input": "2023-11-08T10:22:11.648133Z",
     "iopub.status.busy": "2023-11-08T10:22:11.647748Z",
     "iopub.status.idle": "2023-11-08T10:22:11.660810Z",
     "shell.execute_reply": "2023-11-08T10:22:11.659478Z",
     "shell.execute_reply.started": "2023-11-08T10:22:11.648107Z"
    },
    "tags": []
   },
   "outputs": [],
   "source": [
    "# Shows history of games\n",
    "@bot.command()\n",
    "async def history(ctx, n=10):\n",
    "    \"\"\"List history of n games\"\"\"\n",
    "    result_scores = {\"W\":\"L\", \"L\":\"W\", \"D\":\"D\"}\n",
    "    result = f\"#   {'Games:':<10}\\n\"\n",
    "    for i in range(min(n,len(games))):\n",
    "        row = games.iloc[len(games)-1-i]\n",
    "        result = result + f\"{len(games)-i:<3} {row['date']:<10} {row['name1']:>8} - {row['result']} {row['name2']:>8} - {result_scores[row['result']]}\\n\"\n",
    "\n",
    "    await ctx.send(\"```\\n\"+result+\"```\")"
   ]
  },
  {
   "cell_type": "code",
   "execution_count": 20,
   "metadata": {
    "execution": {
     "iopub.execute_input": "2023-11-08T10:22:12.026509Z",
     "iopub.status.busy": "2023-11-08T10:22:12.025790Z",
     "iopub.status.idle": "2023-11-08T10:22:12.036357Z",
     "shell.execute_reply": "2023-11-08T10:22:12.035412Z",
     "shell.execute_reply.started": "2023-11-08T10:22:12.026451Z"
    },
    "tags": []
   },
   "outputs": [],
   "source": [
    "# Shows specific game\n",
    "@bot.command()\n",
    "async def game(ctx, num=len(games)):\n",
    "    \"\"\"Show details on individual games\"\"\"\n",
    "    row = games.iloc[min(max(1, num), len(games))-1]\n",
    "    result_scores = {\"W\":\"L\", \"L\":\"W\", \"D\":\"D\"}\n",
    "    \n",
    "    result = f\"{'Game #'+str(min(max(1, num), len(games))):<11}{row['date']:>17}\\n{'Names:':<10}{row['name1']:>8}  {row['name2']:>8}\\n\"\n",
    "    result = result + f\"{'Result:':<10}{row['result']:>8}  {result_scores[row['result']]:>8}\\n\"\n",
    "    result = result + f\"{'Expected:':<10}{100*row['expectation']:>8.1f}  {100-100*row['expectation']:>8.1f}\\n\"\n",
    "    result = result + f\"{'∆ELO:':<10}{row['change_elo1']:>8.1f}  {row['change_elo2']:>8.1f}\\n\"\n",
    "    result = result + f\"Comments: {row['comments']}\\n\"\n",
    "    await ctx.send(\"```\\n\"+result+\"```\")"
   ]
  },
  {
   "cell_type": "code",
   "execution_count": 28,
   "metadata": {
    "execution": {
     "iopub.execute_input": "2023-11-08T10:28:53.587659Z",
     "iopub.status.busy": "2023-11-08T10:28:53.586897Z",
     "iopub.status.idle": "2023-11-08T10:28:53.604368Z",
     "shell.execute_reply": "2023-11-08T10:28:53.596313Z",
     "shell.execute_reply.started": "2023-11-08T10:28:53.587622Z"
    },
    "tags": []
   },
   "outputs": [],
   "source": [
    "# Shows profile of player\n",
    "@bot.command()\n",
    "async def profile(ctx, name):\n",
    "    \"\"\"Show details on players\"\"\"\n",
    "    row = players[players[\"nick_name\"] == name]\n",
    "    \n",
    "    result = f\"{name} ({row['full_name'].values[0]})\\n\\n\"\n",
    "    result = result + f\"{'Won: ' + str(row['win'].values[0]):<9} {'Lost: ' + str(row['loss'].values[0]):<9} {'Draw: ' + str(row['total'].values[0]-row['loss'].values[0]-row['win'].values[0]):<9} {'Total: ' + str(row['total'].values[0]):<9}\\n\\n\"\n",
    "    result = result + f\"ELO:{row['ELO'].values[0]:>11.1f}\\n\"\n",
    "    \n",
    "    score = update_score()\n",
    "    result = result + f\"K/D: {score[score['nick_name'] == name]['kd'].values[0]:>10.2f}\\n\"\n",
    "    result = result + f\"Win%:{score[score['nick_name'] == name]['win_rate'].values[0]:>10.1f}\\n\"\n",
    "    await ctx.send(\"```\\n\"+result+\"```\")"
   ]
  }
 ],
 "metadata": {
  "kernelspec": {
   "display_name": "Python 3 (ipykernel)",
   "language": "python",
   "name": "python3"
  },
  "language_info": {
   "codemirror_mode": {
    "name": "ipython",
    "version": 3
   },
   "file_extension": ".py",
   "mimetype": "text/x-python",
   "name": "python",
   "nbconvert_exporter": "python",
   "pygments_lexer": "ipython3",
   "version": "3.9.15"
  }
 },
 "nbformat": 4,
 "nbformat_minor": 4
}
